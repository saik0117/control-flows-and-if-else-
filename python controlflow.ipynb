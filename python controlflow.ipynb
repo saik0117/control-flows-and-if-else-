{
 "cells": [
  {
   "cell_type": "markdown",
   "id": "65790f08-b95d-4bca-9561-38c5cf175bb6",
   "metadata": {},
   "source": [
    "# Basic If-Else Statements:"
   ]
  },
  {
   "cell_type": "markdown",
   "id": "965c28d3-b5ee-4a62-aef0-13b55c331f05",
   "metadata": {},
   "source": [
    "## 1.Write a Python program to check if a given number is positive or negative."
   ]
  },
  {
   "cell_type": "code",
   "execution_count": 2,
   "id": "c021adee-cbe3-44b4-a96d-4ec7b7052720",
   "metadata": {},
   "outputs": [
    {
     "name": "stdout",
     "output_type": "stream",
     "text": [
      "number is positive\n"
     ]
    }
   ],
   "source": [
    "num=1\n",
    "if (num >= 0):\n",
    "    if num == 0:\n",
    "        print(\"number is 0\")\n",
    "    else:\n",
    "        print(\"number is positive\")\n",
    "else:\n",
    "    print(\"number is negitive\")"
   ]
  },
  {
   "cell_type": "markdown",
   "id": "d7cfa75e-3dff-4048-aebc-80adae8f2143",
   "metadata": {},
   "source": [
    "## 2. Create a program that determines if a person is eligible to vote based on their age."
   ]
  },
  {
   "cell_type": "code",
   "execution_count": 5,
   "id": "b0e81251-f11e-41fe-b8d8-12776b6ff901",
   "metadata": {},
   "outputs": [
    {
     "name": "stdout",
     "output_type": "stream",
     "text": [
      "person  can eligible for vote \n"
     ]
    }
   ],
   "source": [
    "age = 18\n",
    "if age>=18:\n",
    "    print(\"person  can eligible for vote \")\n",
    "else:\n",
    "    if age<=18:\n",
    "        print(\"person can not eligible for vote\")\n",
    "\n",
    "    "
   ]
  },
  {
   "cell_type": "markdown",
   "id": "6a3b8a9a-a2ec-4f2e-a774-58491ca0cfb8",
   "metadata": {},
   "source": [
    "## 3. Develop a program to find the maximum of two numbers using if-else statements."
   ]
  },
  {
   "cell_type": "code",
   "execution_count": 3,
   "id": "2cccc2f9-70f6-43fb-b40f-4c9caa10b36d",
   "metadata": {},
   "outputs": [
    {
     "name": "stdout",
     "output_type": "stream",
     "text": [
      "50\n"
     ]
    }
   ],
   "source": [
    "num1=50\n",
    "num2=20\n",
    "maximum_number =0\n",
    "if num1> num2 and num1>num2:\n",
    "    maximum_number = num1\n",
    "else:\n",
    "     maximum_number =num2\n",
    "print(maximum_number)    "
   ]
  },
  {
   "cell_type": "markdown",
   "id": "5b321b46-9252-474b-a12e-804d8290131c",
   "metadata": {},
   "source": [
    "## 4. Write a Python script to classify a given year as a leap year or not."
   ]
  },
  {
   "cell_type": "code",
   "execution_count": 1,
   "id": "a7a6a482-5d90-466b-af18-1d298b42f44e",
   "metadata": {},
   "outputs": [
    {
     "name": "stdin",
     "output_type": "stream",
     "text": [
      "enter the year: 2000\n"
     ]
    },
    {
     "name": "stdout",
     "output_type": "stream",
     "text": [
      "2000 is a leap year\n"
     ]
    }
   ],
   "source": [
    "year = int(input(\"enter the year:\"))\n",
    "if (year%4==0 and year %100!=0) or(year%400==0) :\n",
    "    print(year,'is a leap year')\n",
    "else:\n",
    "    print(year,'is not a leap year')\n",
    "        \n",
    "            "
   ]
  },
  {
   "cell_type": "markdown",
   "id": "f5fa9ba5-238a-4695-b176-83512ac0e844",
   "metadata": {},
   "source": [
    "## 5. Create a program that checks whether a character is a vowel or a consonant."
   ]
  },
  {
   "cell_type": "code",
   "execution_count": 8,
   "id": "d85bfe4e-c185-4fc8-b4cb-13c202f0e6d9",
   "metadata": {},
   "outputs": [
    {
     "name": "stdin",
     "output_type": "stream",
     "text": [
      "enter a letter z\n"
     ]
    },
    {
     "name": "stdout",
     "output_type": "stream",
     "text": [
      "it is an consonant: z\n"
     ]
    }
   ],
   "source": [
    "letter = input(\"enter a letter\")\n",
    "if letter in \"aeiouAEIOU\":\n",
    "    print(\"it is an vowel:\", letter)\n",
    "else:\n",
    "    print(\"it is an consonant:\", letter)"
   ]
  },
  {
   "cell_type": "markdown",
   "id": "ff0ab4d0-f0da-4513-8592-c99906b442e0",
   "metadata": {},
   "source": [
    "## 6. Implement a program to determine whether a given number is even or odd."
   ]
  },
  {
   "cell_type": "code",
   "execution_count": 2,
   "id": "573a4b98-1df6-4ff8-a982-8859b1cc9d98",
   "metadata": {},
   "outputs": [
    {
     "name": "stdin",
     "output_type": "stream",
     "text": [
      "enter an number 10\n"
     ]
    },
    {
     "name": "stdout",
     "output_type": "stream",
     "text": [
      "it is an even number\n"
     ]
    }
   ],
   "source": [
    "number = int(input(\"enter an number\"))\n",
    "if number %2==0:\n",
    "    print(\"it is an even number\")\n",
    "else:\n",
    "    print(\"it is an odd number\")   "
   ]
  },
  {
   "cell_type": "markdown",
   "id": "005996f7-f489-4d45-9617-79dda6653c27",
   "metadata": {},
   "source": [
    "## 7. Write a Python function to calculate the absolute value of a number without using the `abs()` function."
   ]
  },
  {
   "cell_type": "code",
   "execution_count": 11,
   "id": "f26aa54d-e41f-4aeb-a1de-f2bf1cc2a9f3",
   "metadata": {},
   "outputs": [],
   "source": [
    "def absolute(n):\n",
    "    if n>0:\n",
    "        print(n)\n",
    "    else:\n",
    "        print(-n)"
   ]
  },
  {
   "cell_type": "code",
   "execution_count": 13,
   "id": "c426a2d3-c553-4585-86d9-1bc9138b3c7f",
   "metadata": {},
   "outputs": [
    {
     "name": "stdout",
     "output_type": "stream",
     "text": [
      "25\n"
     ]
    }
   ],
   "source": [
    "absolute(-25)"
   ]
  },
  {
   "cell_type": "markdown",
   "id": "3f1b6289-0685-4b95-abf3-4a228f4d0533",
   "metadata": {},
   "source": [
    "## 8. Develop a program that determines the largest of three given numbers using if-else statements."
   ]
  },
  {
   "cell_type": "code",
   "execution_count": 9,
   "id": "35b72ea7-6409-49fa-9a8f-23bdfdce99fc",
   "metadata": {},
   "outputs": [
    {
     "name": "stdout",
     "output_type": "stream",
     "text": [
      "500\n"
     ]
    }
   ],
   "source": [
    "num1 = 500\n",
    "num2 =200\n",
    "num3 = 300\n",
    "largest_number = 0\n",
    "if num1> num2 and num1>num3:\n",
    "    largest_number = num1\n",
    "elif num2>num3:\n",
    "    largest_number = num2\n",
    "else:\n",
    "    largest_number =num3\n",
    "print(largest_number)    "
   ]
  },
  {
   "cell_type": "markdown",
   "id": "006a3586-3481-44a0-9d1a-6ca1cf98e63b",
   "metadata": {},
   "source": [
    "## 9. Create a program that checks if a given string is a palindrome."
   ]
  },
  {
   "cell_type": "code",
   "execution_count": 11,
   "id": "f7a303ad-2618-4610-a29c-a74dad845946",
   "metadata": {},
   "outputs": [
    {
     "name": "stdout",
     "output_type": "stream",
     "text": [
      "its a palindrome\n"
     ]
    }
   ],
   "source": [
    "string = \"madam\"\n",
    "reverse_string = string[::-1]\n",
    "if string == reverse_string:\n",
    "    print(\"its a palindrome\")\n",
    "else:\n",
    "    print(\"its not a palindrome\")"
   ]
  },
  {
   "cell_type": "markdown",
   "id": "dcaef2fe-cb55-46cf-a7cf-40e437ea2255",
   "metadata": {},
   "source": [
    "## 10. Write a Python program to calculate the grade based on a student's score."
   ]
  },
  {
   "cell_type": "code",
   "execution_count": 14,
   "id": "c8feabf4-e106-431d-bd1f-4ee59cefeb7c",
   "metadata": {},
   "outputs": [
    {
     "name": "stdout",
     "output_type": "stream",
     "text": [
      "excellent performance your grade is A+\n"
     ]
    }
   ],
   "source": [
    "score=95\n",
    "\n",
    "if score >=90:\n",
    "    print(\"excellent performance your grade is A+\")\n",
    "elif score >=80:\n",
    "    print(\"excellent performance your grade is A\")\n",
    "elif score >=70:\n",
    "    print(\"excellent performance your grade is B\")\n",
    "else:\n",
    "    print(\"excellent performance your grade is c\")"
   ]
  },
  {
   "cell_type": "markdown",
   "id": "df0408cb-970c-4ff0-8555-8b18f64b0b89",
   "metadata": {},
   "source": [
    "# Nested If-Else Statements:"
   ]
  },
  {
   "cell_type": "markdown",
   "id": "e4243ad2-4cc7-4e22-99ca-05f4908e20e4",
   "metadata": {},
   "source": [
    "## 11. Write a program to find the largest among three numbers using nested if-else statements."
   ]
  },
  {
   "cell_type": "code",
   "execution_count": 18,
   "id": "1ceb5122-8e66-4411-81b9-24371b75c253",
   "metadata": {},
   "outputs": [
    {
     "name": "stdout",
     "output_type": "stream",
     "text": [
      "6000\n"
     ]
    }
   ],
   "source": [
    "num1 = 200\n",
    "num2 =400\n",
    "num3 = 6000\n",
    "largest_number = 0\n",
    "if num1>num2:\n",
    "    if num1>num3:\n",
    "        largest_number =num1\n",
    "    else:\n",
    "        largest_number = num3\n",
    "else:\n",
    "    if num2>num3:\n",
    "        largest_number = num2\n",
    "    else:\n",
    "        largest_number = num3\n",
    "print(largest_number)        "
   ]
  },
  {
   "cell_type": "markdown",
   "id": "f751ad73-fcb6-4368-83e9-e2aeaef926a2",
   "metadata": {},
   "source": [
    "## 12. Implement a program to determine if a triangle is equilateral, isosceles, or scalene."
   ]
  },
  {
   "cell_type": "code",
   "execution_count": 21,
   "id": "05897569-45df-47a8-86ad-5d711fae4ace",
   "metadata": {},
   "outputs": [
    {
     "name": "stdout",
     "output_type": "stream",
     "text": [
      "scalene triangle\n"
     ]
    }
   ],
   "source": [
    "side1 = 20\n",
    "side2 = 30\n",
    "side3 = 40\n",
    "if side1==side2==side3:\n",
    "    print(\"equilateral triangel\")\n",
    "elif side1==side2 or side1==side3 or side2==side3:\n",
    "    print(\"isosceles triangle\")\n",
    "else:\n",
    "    print(\"scalene triangle\")"
   ]
  },
  {
   "cell_type": "markdown",
   "id": "ac04a432-7c1a-4036-97fa-9c3d9321a578",
   "metadata": {},
   "source": [
    "## 13. Develop a program that checks if a year is a leap year and also if it is a century year."
   ]
  },
  {
   "cell_type": "code",
   "execution_count": 2,
   "id": "6b488e36-b08e-4dcc-8c71-6fd41a3979dc",
   "metadata": {},
   "outputs": [
    {
     "name": "stdin",
     "output_type": "stream",
     "text": [
      "enter the year: 1996\n"
     ]
    },
    {
     "name": "stdout",
     "output_type": "stream",
     "text": [
      "1996 is a leap and also an century year\n"
     ]
    }
   ],
   "source": [
    "year = int(input(\"enter the year:\"))\n",
    "if (year%4==0 and year %100!=0) or(year%400==0) :\n",
    "    print(year,'is a leap and also an century year')\n",
    "else:\n",
    "    print(year,'is not a leap year and also an century year')"
   ]
  },
  {
   "cell_type": "markdown",
   "id": "e332062a-2514-4ab2-966e-9af4a097e0ea",
   "metadata": {},
   "source": [
    "## 14. Write a Python script to determine if a number is positive, negative, or zero."
   ]
  },
  {
   "cell_type": "code",
   "execution_count": 4,
   "id": "be650f61-262a-4cf9-846d-85c9cee57885",
   "metadata": {},
   "outputs": [
    {
     "name": "stdout",
     "output_type": "stream",
     "text": [
      "given number is an negative\n"
     ]
    }
   ],
   "source": [
    "num = -100\n",
    "if num>0:\n",
    "    print(\"given number is an positive\")\n",
    "elif num<0:\n",
    "    print(\"given number is an negative\")\n",
    "else:\n",
    "    print(\"given number is an zero\")"
   ]
  },
  {
   "cell_type": "markdown",
   "id": "560905d3-bba8-4421-aad2-d02264f7b2a9",
   "metadata": {},
   "source": [
    "## 15. Create a program to check if a person is a teenager (between 13 and 19 years old)."
   ]
  },
  {
   "cell_type": "code",
   "execution_count": 7,
   "id": "044d1c62-5f9a-4413-af4a-6d84b2488b4f",
   "metadata": {},
   "outputs": [
    {
     "name": "stdin",
     "output_type": "stream",
     "text": [
      "enter an age 19\n"
     ]
    },
    {
     "name": "stdout",
     "output_type": "stream",
     "text": [
      "person is an teenager\n"
     ]
    }
   ],
   "source": [
    "age = int(input(\"enter an age\"))\n",
    "if age>=13 and age<=19:\n",
    "    print(\"person is an teenager\")\n",
    "else:\n",
    "    print(\" person is not an teenager\")\n",
    "    "
   ]
  },
  {
   "cell_type": "markdown",
   "id": "8cc6a5f4-c6b4-4ebd-810a-24bc46210ace",
   "metadata": {},
   "source": [
    "## 16. Develop a program that determines the type of angle based on its measure (acute, obtuse, or right)."
   ]
  },
  {
   "cell_type": "code",
   "execution_count": 1,
   "id": "3f7cbfc2-0417-42a4-9897-c4e6c424f674",
   "metadata": {},
   "outputs": [
    {
     "name": "stdin",
     "output_type": "stream",
     "text": [
      "Enter the angle measure:  120\n"
     ]
    },
    {
     "name": "stdout",
     "output_type": "stream",
     "text": [
      "The angle with measure 120.0 degrees is a Obtuse Angle.\n"
     ]
    }
   ],
   "source": [
    "def angle_type(angle):\n",
    "    if angle < 90:\n",
    "        return \"Acute Angle\"\n",
    "    elif angle == 90:\n",
    "        return \"Right Angle\"\n",
    "    elif angle > 90 and angle < 180:\n",
    "        return \"Obtuse Angle\"\n",
    "    elif angle == 180:\n",
    "        return \"Straight Angle\"\n",
    "    else:\n",
    "        return \"Reflex Angle\"\n",
    "\n",
    "angle_measure = float(input(\"Enter the angle measure: \"))\n",
    "\n",
    "if angle_measure < 0 or angle_measure > 360:\n",
    "    print(\"Invalid angle measure. Please enter a value between 0 and 360 degrees.\")\n",
    "else:\n",
    "    angle_classification = angle_type(angle_measure)\n",
    "    print(f\"The angle with measure {angle_measure} degrees is a {angle_classification}.\")"
   ]
  },
  {
   "cell_type": "markdown",
   "id": "ffb4a9d6-d457-4259-bb09-4be4fb0ae36c",
   "metadata": {},
   "source": [
    "## 17. Write a Python program to calculate the roots of a quadratic equation."
   ]
  },
  {
   "cell_type": "code",
   "execution_count": 4,
   "id": "390fbbee-2b1d-453a-a3fd-fa19ab8b09d3",
   "metadata": {},
   "outputs": [
    {
     "name": "stdin",
     "output_type": "stream",
     "text": [
      "Enter the coefficient 'a':  200\n",
      "Enter the coefficient 'b':  500\n",
      "Enter the coefficient 'c':  245\n"
     ]
    },
    {
     "name": "stdout",
     "output_type": "stream",
     "text": [
      "The equation has two distinct real roots: -0.6690524980688874 and -1.8309475019311126\n"
     ]
    }
   ],
   "source": [
    "import math\n",
    "\n",
    "a = float(input(\"Enter the coefficient 'a': \"))\n",
    "b = float(input(\"Enter the coefficient 'b': \"))\n",
    "c = float(input(\"Enter the coefficient 'c': \"))\n",
    "\n",
    "# Calculate the discriminant\n",
    "discriminant = b**2 - 4*a*c\n",
    "\n",
    "if discriminant > 0:\n",
    "    # Two distinct real roots\n",
    "    root1 = (-b + math.sqrt(discriminant)) / (2*a)\n",
    "    root2 = (-b - math.sqrt(discriminant)) / (2*a)\n",
    "    print(f\"The equation has two distinct real roots: {root1} and {root2}\")\n",
    "elif discriminant == 0:\n",
    "    # One real root (a repeated root)\n",
    "    root = -b / (2*a)\n",
    "    print(f\"The equation has one real root: {root}\")\n",
    "else:\n",
    "    # Complex roots\n",
    "    real_part = -b / (2*a)\n",
    "    imaginary_part = math.sqrt(abs(discriminant)) / (2*a)\n",
    "    print(f\"The equation has complex roots: {real_part} + {imaginary_part}i and {real_part} - {imaginary_part}i\")\n"
   ]
  },
  {
   "cell_type": "markdown",
   "id": "cbe8f455-931a-456b-b425-59e8bae0e862",
   "metadata": {},
   "source": [
    "## 18. Implement a program to determine the day of the week based on a user-provided number (1 for Monday, 2 for tuesday,etc.).\n"
   ]
  },
  {
   "cell_type": "code",
   "execution_count": 17,
   "id": "e39d8644-18c3-40d5-aec6-611d8d3268e5",
   "metadata": {},
   "outputs": [
    {
     "name": "stdout",
     "output_type": "stream",
     "text": [
      "Friday\n"
     ]
    }
   ],
   "source": [
    "day = 5\n",
    "if day== 1:\n",
    "    print(\"Monday\")\n",
    "elif day==2:\n",
    "    print(\"Tuesday\")\n",
    "elif day==3:\n",
    "    print(\"wednesday\")\n",
    "elif day==4:\n",
    "    print(\"Thursday\")\n",
    "elif day==5:\n",
    "    print(\"Friday\") \n",
    "elif day==6:\n",
    "    print(\"Saturday\")\n",
    "elif day==7:\n",
    "    print(\"Sunday\")\n",
    "else:\n",
    "    print(\"day is not  an  valid day\")"
   ]
  },
  {
   "cell_type": "markdown",
   "id": "0a4f4bdb-acc2-42e4-804d-87486df28468",
   "metadata": {},
   "source": [
    "## 19. Create a program that determines if a year is a leap year and also if it is evenly divisible by 400."
   ]
  },
  {
   "cell_type": "code",
   "execution_count": 19,
   "id": "2025751e-ad15-4d14-a8f9-ac8353068581",
   "metadata": {},
   "outputs": [
    {
     "name": "stdin",
     "output_type": "stream",
     "text": [
      "enter an year 1998\n"
     ]
    }
   ],
   "source": [
    "def is_leap(year):\n",
    "    leap = False \n",
    "    if year%4==0 and year%100==0 and year%400==0:\n",
    "        return True\n",
    "    elif year%4==0 and year%100!=0 and year%400!=0:\n",
    "        return True\n",
    "    else:\n",
    "        return False\n",
    "  \n",
    "year = int(input(\"enter an year\"))"
   ]
  },
  {
   "cell_type": "markdown",
   "id": "cca1ed29-e535-4c38-9b83-9502d21c97bb",
   "metadata": {},
   "source": [
    "## 20. Develop a program that checks if a given number is prime or not using nested if-else statements."
   ]
  },
  {
   "cell_type": "code",
   "execution_count": 5,
   "id": "e9dc5a1f-f118-42c5-8a2e-b1e33ed4f019",
   "metadata": {},
   "outputs": [
    {
     "name": "stdin",
     "output_type": "stream",
     "text": [
      "Enter a number:  25\n"
     ]
    },
    {
     "name": "stdout",
     "output_type": "stream",
     "text": [
      "25 is not a prime number.\n"
     ]
    }
   ],
   "source": [
    "# Function to check if a number is prime\n",
    "def is_prime(number):\n",
    "    if number <= 1:\n",
    "        return False\n",
    "    elif number <= 3:\n",
    "        return True\n",
    "    elif number % 2 == 0 or number % 3 == 0:\n",
    "        return False\n",
    "    else:\n",
    "        i = 5\n",
    "        while i * i <= number:\n",
    "            if number % i == 0 or number % (i + 2) == 0:\n",
    "                return False\n",
    "            i += 6\n",
    "        return True\n",
    "\n",
    "# Input from the user\n",
    "num = int(input(\"Enter a number: \"))\n",
    "\n",
    "# Check if the number is prime\n",
    "if is_prime(num):\n",
    "    print(f\"{num} is a prime number.\")\n",
    "else:\n",
    "    print(f\"{num} is not a prime number.\")\n"
   ]
  },
  {
   "cell_type": "markdown",
   "id": "0fc28fac-c0a4-4934-b4e4-23b1ca4ae5bd",
   "metadata": {},
   "source": [
    "# Elif Statements:"
   ]
  },
  {
   "cell_type": "markdown",
   "id": "ae8f8286-2eef-4fe4-92d8-3157401eb2bb",
   "metadata": {},
   "source": [
    "## 21. Write a Python program to assign grades based on different ranges of scores using elif statements."
   ]
  },
  {
   "cell_type": "code",
   "execution_count": 6,
   "id": "9ad9ae2a-a34a-497c-9966-ccde6603d3a8",
   "metadata": {},
   "outputs": [
    {
     "name": "stdin",
     "output_type": "stream",
     "text": [
      "Enter the score:  100\n"
     ]
    },
    {
     "name": "stdout",
     "output_type": "stream",
     "text": [
      "The grade for a score of 100.0 is: A\n"
     ]
    }
   ],
   "source": [
    "# Input the score\n",
    "score = float(input(\"Enter the score: \"))\n",
    "\n",
    "# Determine the grade based on the score\n",
    "if 90 <= score <= 100:\n",
    "    grade = 'A'\n",
    "elif 80 <= score < 90:\n",
    "    grade = 'B'\n",
    "elif 70 <= score < 80:\n",
    "    grade = 'C'\n",
    "elif 60 <= score < 70:\n",
    "    grade = 'D'\n",
    "else:\n",
    "    grade = 'F'\n",
    "\n",
    "# Print the grade\n",
    "print(f\"The grade for a score of {score} is: {grade}\")\n"
   ]
  },
  {
   "cell_type": "markdown",
   "id": "1a939229-91a7-4e6a-83cc-beade89335bd",
   "metadata": {},
   "source": [
    "## 22. Implement a program to determine the type of a triangle based on its angles."
   ]
  },
  {
   "cell_type": "code",
   "execution_count": 11,
   "id": "ce315b8f-bfc2-46ad-be1f-51965093e77c",
   "metadata": {},
   "outputs": [
    {
     "name": "stdin",
     "output_type": "stream",
     "text": [
      "Enter the measure of the first angle:  60\n",
      "Enter the measure of the second angle:  60\n",
      "Enter the measure of the third angle:  60\n"
     ]
    },
    {
     "name": "stdout",
     "output_type": "stream",
     "text": [
      "The triangle is a Equilateral triangle.\n"
     ]
    }
   ],
   "source": [
    "# Input the measures of the three angles of the triangle\n",
    "angle1 = float(input(\"Enter the measure of the first angle: \"))\n",
    "angle2 = float(input(\"Enter the measure of the second angle: \"))\n",
    "angle3 = float(input(\"Enter the measure of the third angle: \"))\n",
    "\n",
    "# Check if the angles form a valid triangle\n",
    "if angle1 + angle2 + angle3 == 180:\n",
    "    if angle1 == angle2 == angle3:\n",
    "        triangle_type = \"Equilateral\"\n",
    "    elif angle1 == angle2 or angle2 == angle3 or angle1 == angle3:\n",
    "        triangle_type = \"Isosceles\"\n",
    "    else:\n",
    "        triangle_type = \"Scalene\"\n",
    "else:\n",
    "    triangle_type = \"Not a valid triangle\"\n",
    "\n",
    "# Print the type of the triangle\n",
    "print(f\"The triangle is a {triangle_type} triangle.\")\n"
   ]
  },
  {
   "cell_type": "markdown",
   "id": "a24e20f8-c685-4feb-b816-b520e0db7b18",
   "metadata": {},
   "source": [
    "## 23. Develop a program to categorize a given person's BMI into underweight, normal, overweight, or obese using elif statements.\n"
   ]
  },
  {
   "cell_type": "code",
   "execution_count": 12,
   "id": "0ee70a54-2b7a-4a78-b466-06ffe9fc622e",
   "metadata": {},
   "outputs": [
    {
     "name": "stdin",
     "output_type": "stream",
     "text": [
      "Enter height in meters:  20\n",
      "Enter weight in kilograms:  10\n"
     ]
    },
    {
     "name": "stdout",
     "output_type": "stream",
     "text": [
      "Your BMI is 0.03, and you are categorized as: Underweight\n"
     ]
    }
   ],
   "source": [
    "# Input height and weight from the user\n",
    "height = float(input(\"Enter height in meters: \"))\n",
    "weight = float(input(\"Enter weight in kilograms: \"))\n",
    "\n",
    "# Calculate BMI\n",
    "bmi = weight / (height ** 2)\n",
    "\n",
    "# Categorize BMI\n",
    "if bmi < 18.5:\n",
    "    category = \"Underweight\"\n",
    "elif 18.5 <= bmi < 24.9:\n",
    "    category = \"Normal Weight\"\n",
    "elif 25 <= bmi < 29.9:\n",
    "    category = \"Overweight\"\n",
    "else:\n",
    "    category = \"Obese\"\n",
    "\n",
    "# Print the BMI category\n",
    "print(f\"Your BMI is {bmi:.2f}, and you are categorized as: {category}\")\n"
   ]
  },
  {
   "cell_type": "markdown",
   "id": "c47e4eec-6e17-46c5-8f7f-02137934afb0",
   "metadata": {},
   "source": [
    "## 24. Create a program that determines whether a given number is positive, negative, or zero using elif statements."
   ]
  },
  {
   "cell_type": "code",
   "execution_count": 1,
   "id": "472515fa-5a97-4ed0-8d5f-9f56097cd0a3",
   "metadata": {},
   "outputs": [
    {
     "name": "stdin",
     "output_type": "stream",
     "text": [
      "Enter a number:  54\n"
     ]
    },
    {
     "name": "stdout",
     "output_type": "stream",
     "text": [
      "The number is positive.\n"
     ]
    }
   ],
   "source": [
    "# Input the number from the user\n",
    "number = int(input(\"Enter a number: \"))\n",
    "\n",
    "# Check if the number is positive, negative, or zero using elif statements\n",
    "if number > 0:\n",
    "    print(\"The number is positive.\")\n",
    "elif number < 0:\n",
    "    print(\"The number is negative.\")\n",
    "else:\n",
    "    print(\"The number is zero.\")\n"
   ]
  },
  {
   "cell_type": "markdown",
   "id": "e0d9fa51-bd20-47d1-89bc-78569a649dc5",
   "metadata": {},
   "source": [
    "## 25. Write a Python script to determine the type of a character (uppercase, lowercase, or special) using elif statement.\n"
   ]
  },
  {
   "cell_type": "code",
   "execution_count": 2,
   "id": "790dccd0-0b50-487c-81a9-631c9664b32e",
   "metadata": {},
   "outputs": [
    {
     "name": "stdin",
     "output_type": "stream",
     "text": [
      "Enter a character:  welcome to python class\n"
     ]
    },
    {
     "name": "stdout",
     "output_type": "stream",
     "text": [
      "The character is lowercase.\n"
     ]
    }
   ],
   "source": [
    "# Input a character from the user\n",
    "character = input(\"Enter a character: \")\n",
    "\n",
    "# Check the type of the character using elif statements\n",
    "if character.isupper():\n",
    "    print(\"The character is uppercase.\")\n",
    "elif character.islower():\n",
    "    print(\"The character is lowercase.\")\n",
    "else:\n",
    "    print(\"The character is a special character or not a letter.\")\n"
   ]
  },
  {
   "cell_type": "markdown",
   "id": "d958e41a-f4b7-4a94-a8ad-bda7e80c73df",
   "metadata": {},
   "source": [
    "## 26. Implement a program to calculate the discounted price based on different purchase amounts using elif statement.\n"
   ]
  },
  {
   "cell_type": "code",
   "execution_count": 3,
   "id": "ea228d52-faf1-4ffc-a7a0-12400cd77299",
   "metadata": {},
   "outputs": [
    {
     "name": "stdin",
     "output_type": "stream",
     "text": [
      "Enter the purchase amount:  75\n"
     ]
    },
    {
     "name": "stdout",
     "output_type": "stream",
     "text": [
      "Original Price: $75.00\n",
      "Discount: 5%\n",
      "Discounted Price: $71.25\n"
     ]
    }
   ],
   "source": [
    "# Input the purchase amount from the user\n",
    "purchase_amount = int(input(\"Enter the purchase amount: \"))\n",
    "\n",
    "# Calculate the discounted price based on different purchase amounts using elif statements\n",
    "discount = 0  # Default discount is 0%\n",
    "\n",
    "if purchase_amount >= 100:\n",
    "    discount = 10  # 10% discount for purchases of $100 or more\n",
    "elif purchase_amount >= 50:\n",
    "    discount = 5   # 5% discount for purchases between $50 and $99\n",
    "\n",
    "# Calculate the discounted price\n",
    "discounted_price = purchase_amount - (purchase_amount * discount / 100)\n",
    "\n",
    "# Display the results\n",
    "print(f\"Original Price: ${purchase_amount:.2f}\")\n",
    "print(f\"Discount: {discount}%\")\n",
    "print(f\"Discounted Price: ${discounted_price:.2f}\")\n"
   ]
  },
  {
   "cell_type": "markdown",
   "id": "4665047e-95c5-41ed-b717-096070227536",
   "metadata": {},
   "source": [
    "## 27. Develop a program to calculate the electricity bill based on different consumption slabs using elif statement.\n"
   ]
  },
  {
   "cell_type": "code",
   "execution_count": 4,
   "id": "e3be14f2-ac98-4732-8c32-a16f6ee0f9c6",
   "metadata": {},
   "outputs": [
    {
     "name": "stdin",
     "output_type": "stream",
     "text": [
      "Enter the electricity consumption in kilowatt-hours (kWh):  175\n"
     ]
    },
    {
     "name": "stdout",
     "output_type": "stream",
     "text": [
      "Electricity Consumption: 175 kWh\n",
      "Electricity Bill Amount: $21.25\n"
     ]
    }
   ],
   "source": [
    "# Input the electricity consumption from the user\n",
    "consumption = int(input(\"Enter the electricity consumption in kilowatt-hours (kWh): \"))\n",
    "\n",
    "# Initialize the variables for rates and the bill amount\n",
    "rate1 = 0.10  # Rate for the first 100 kWh\n",
    "rate2 = 0.15  # Rate for consumption between 101 kWh and 200 kWh\n",
    "rate3 = 0.20  # Rate for consumption above 200 kWh\n",
    "bill_amount = 0\n",
    "\n",
    "# Calculate the bill based on different consumption slabs using elif statements\n",
    "if consumption <= 100:\n",
    "    bill_amount = consumption * rate1\n",
    "elif consumption <= 200:\n",
    "    bill_amount = 100 * rate1 + (consumption - 100) * rate2\n",
    "else:\n",
    "    bill_amount = 100 * rate1 + 100 * rate2 + (consumption - 200) * rate3\n",
    "\n",
    "# Display the electricity bill amount\n",
    "print(f\"Electricity Consumption: {consumption} kWh\")\n",
    "print(f\"Electricity Bill Amount: ${bill_amount:.2f}\")\n"
   ]
  },
  {
   "cell_type": "markdown",
   "id": "311226c5-46a6-42d7-a643-099255dcc2ad",
   "metadata": {},
   "source": [
    "## 28. Create a program to determine the type of quadrilateral based on its angles and sides using elif statement.\n"
   ]
  },
  {
   "cell_type": "code",
   "execution_count": 1,
   "id": "c401839b-d7d0-44e6-b9fb-94c50f63637c",
   "metadata": {},
   "outputs": [
    {
     "name": "stdin",
     "output_type": "stream",
     "text": [
      "Enter the first angle in degrees:  20\n",
      "Enter the second angle in degrees:  0\n",
      "Enter the third angle in degrees:  45\n",
      "Enter the fourth angle in degrees:  90\n",
      "Enter the length of the first side:  10\n",
      "Enter the length of the second side:  20\n",
      "Enter the length of the third side:  15\n",
      "Enter the length of the fourth side:  5\n"
     ]
    },
    {
     "name": "stdout",
     "output_type": "stream",
     "text": [
      "The given quadrilateral is a Generic Quadrilateral.\n"
     ]
    }
   ],
   "source": [
    "# Input the angles and sides of the quadrilateral from the user\n",
    "angle1 = int(input(\"Enter the first angle in degrees: \"))\n",
    "angle2 = int(input(\"Enter the second angle in degrees: \"))\n",
    "angle3 = int(input(\"Enter the third angle in degrees: \"))\n",
    "angle4 = int(input(\"Enter the fourth angle in degrees: \"))\n",
    "\n",
    "side1 = float(input(\"Enter the length of the first side: \"))\n",
    "side2 = float(input(\"Enter the length of the second side: \"))\n",
    "side3 = float(input(\"Enter the length of the third side: \"))\n",
    "side4 = float(input(\"Enter the length of the fourth side: \"))\n",
    "\n",
    "# Determine the type of quadrilateral using elif statements\n",
    "if angle1 == angle2 == angle3 == angle4 == 90:\n",
    "    if side1 == side2 == side3 == side4:\n",
    "        quadrilateral_type = \"Square\"\n",
    "    elif side1 == side2 and side3 == side4:\n",
    "        quadrilateral_type = \"Rectangle\"\n",
    "    else:\n",
    "        quadrilateral_type = \"Parallelogram\"\n",
    "elif angle1 == angle2 == angle3 == angle4 and side1 == side2 == side3 == side4:\n",
    "    quadrilateral_type = \"Rhombus\"\n",
    "elif angle1 == angle2 and angle3 == angle4:\n",
    "    quadrilateral_type = \"Kite\"\n",
    "elif side1 == side2 == side3 == side4:\n",
    "    quadrilateral_type = \"Trapezoid\"\n",
    "else:\n",
    "    quadrilateral_type = \"Generic Quadrilateral\"\n",
    "\n",
    "# Display the type of quadrilateral\n",
    "print(f\"The given quadrilateral is a {quadrilateral_type}.\")\n"
   ]
  },
  {
   "cell_type": "markdown",
   "id": "c5ed6427-5961-48c9-a2ac-66e85be0ca4c",
   "metadata": {},
   "source": [
    "## 29. Write a Python script to determine the season based on a user-provided month using elif statements."
   ]
  },
  {
   "cell_type": "code",
   "execution_count": 2,
   "id": "60961001-cec5-4eec-92f9-22de03644f97",
   "metadata": {},
   "outputs": [
    {
     "name": "stdin",
     "output_type": "stream",
     "text": [
      "Enter a month:  november\n"
     ]
    },
    {
     "name": "stdout",
     "output_type": "stream",
     "text": [
      "The season for november is Autumn.\n"
     ]
    }
   ],
   "source": [
    "# Input the month from the user\n",
    "month = input(\"Enter a month: \")\n",
    "\n",
    "# Convert the month to lowercase to handle different capitalizations\n",
    "month = month.lower()\n",
    "\n",
    "# Determine the season using elif statements\n",
    "if month in (\"december\", \"january\", \"february\"):\n",
    "    season = \"Winter\"\n",
    "elif month in (\"march\", \"april\", \"may\"):\n",
    "    season = \"Spring\"\n",
    "elif month in (\"june\", \"july\", \"august\"):\n",
    "    season = \"Summer\"\n",
    "elif month in (\"september\", \"october\", \"november\"):\n",
    "    season = \"Autumn\"\n",
    "else:\n",
    "    season = \"Unknown\"\n",
    "\n",
    "# Display the determined season\n",
    "if season != \"Unknown\":\n",
    "    print(f\"The season for {month} is {season}.\")\n",
    "else:\n",
    "    print(\"Invalid input. Please enter a valid month.\")\n"
   ]
  },
  {
   "cell_type": "markdown",
   "id": "5f5a0a5e-eb9f-4499-8bed-866aa343459a",
   "metadata": {},
   "source": [
    "## 30. Implement a program to determine the type of a year (leap or common) and month (30 or 31 days) using elif statement.\n"
   ]
  },
  {
   "cell_type": "code",
   "execution_count": 3,
   "id": "6583f362-92d4-4231-bce4-e0941af6fd4f",
   "metadata": {},
   "outputs": [
    {
     "name": "stdin",
     "output_type": "stream",
     "text": [
      "Enter a year:  1995\n",
      "Enter a month (1-12):  2\n"
     ]
    },
    {
     "name": "stdout",
     "output_type": "stream",
     "text": [
      "1995 is a Common Year.\n",
      "The month 2 has 28 days.\n"
     ]
    }
   ],
   "source": [
    "# Input the year from the user\n",
    "year = int(input(\"Enter a year: \"))\n",
    "\n",
    "# Determine if it's a leap year or common year using elif statements\n",
    "if (year % 4 == 0 and year % 100 != 0) or year % 400 == 0:\n",
    "    year_type = \"Leap\"\n",
    "else:\n",
    "    year_type = \"Common\"\n",
    "\n",
    "# Input the month number from the user\n",
    "month = int(input(\"Enter a month (1-12): \"))\n",
    "\n",
    "# Determine the number of days in the month using elif statements\n",
    "if month in (1, 3, 5, 7, 8, 10, 12):\n",
    "    month_days = 31\n",
    "elif month in (4, 6, 9, 11):\n",
    "    month_days = 30\n",
    "elif month == 2:\n",
    "    if year_type == \"Leap\":\n",
    "        month_days = 29\n",
    "    else:\n",
    "        month_days = 28\n",
    "else:\n",
    "    month_days = -1  # Invalid month\n",
    "\n",
    "# Display the results\n",
    "if year_type == \"Leap\":\n",
    "    print(f\"{year} is a Leap Year.\")\n",
    "else:\n",
    "    print(f\"{year} is a Common Year.\")\n",
    "\n",
    "if month_days == -1:\n",
    "    print(\"Invalid month. Please enter a valid month (1-12).\")\n",
    "else:\n",
    "    print(f\"The month {month} has {month_days} days.\")\n"
   ]
  },
  {
   "cell_type": "markdown",
   "id": "ae699221-7504-46ad-9a25-6d614e85a809",
   "metadata": {},
   "source": [
    "# Basic Level:"
   ]
  },
  {
   "cell_type": "markdown",
   "id": "7ae8ed3d-21b8-423f-831f-85f8c45a46c2",
   "metadata": {},
   "source": [
    "## 1. Write a Python program that checks if a given number is positive, negative, or zero."
   ]
  },
  {
   "cell_type": "code",
   "execution_count": 3,
   "id": "82497f94-c7fc-44b9-a1ca-c0508686293a",
   "metadata": {},
   "outputs": [
    {
     "name": "stdin",
     "output_type": "stream",
     "text": [
      "Enter a number:  10\n"
     ]
    },
    {
     "name": "stdout",
     "output_type": "stream",
     "text": [
      "The number is positive.\n"
     ]
    }
   ],
   "source": [
    "# Input a number from the user\n",
    "number = float(input(\"Enter a number: \"))\n",
    "\n",
    "# Check if the number is positive, negative, or zero using conditional statements\n",
    "if number > 0:\n",
    "    print(\"The number is positive.\")\n",
    "elif number < 0:\n",
    "    print(\"The number is negative.\")\n",
    "else:\n",
    "    print(\"The number is zero.\")\n"
   ]
  },
  {
   "cell_type": "markdown",
   "id": "85cc12dd-990a-42dd-84aa-a2fc0129a99e",
   "metadata": {},
   "source": [
    "## 2. Create a program to determine if a person is eligible to vote based on their age."
   ]
  },
  {
   "cell_type": "code",
   "execution_count": 4,
   "id": "19193347-c7c0-4b9d-a0b0-8293ef3229e5",
   "metadata": {},
   "outputs": [
    {
     "name": "stdin",
     "output_type": "stream",
     "text": [
      "Enter your age:  21\n"
     ]
    },
    {
     "name": "stdout",
     "output_type": "stream",
     "text": [
      "You are eligible to vote.\n"
     ]
    }
   ],
   "source": [
    "# Input the age from the user\n",
    "age = int(input(\"Enter your age: \"))\n",
    "\n",
    "# Check if the person is eligible to vote based on age\n",
    "voting_age = 18\n",
    "\n",
    "if age >= voting_age:\n",
    "    print(\"You are eligible to vote.\")\n",
    "else:\n",
    "    print(\"You are not eligible to vote.\")\n"
   ]
  },
  {
   "cell_type": "markdown",
   "id": "43595bdc-6418-4125-9286-6981e1b11c1b",
   "metadata": {},
   "source": [
    "## 3. Write a program to find the maximum of two given numbers using conditional statements."
   ]
  },
  {
   "cell_type": "code",
   "execution_count": 5,
   "id": "130676c0-42e1-49e5-b504-567ca608c945",
   "metadata": {},
   "outputs": [
    {
     "name": "stdin",
     "output_type": "stream",
     "text": [
      "Enter the first number:  10\n",
      "Enter the second number:  25\n"
     ]
    },
    {
     "name": "stdout",
     "output_type": "stream",
     "text": [
      "The maximum of 10.0 and 25.0 is: 25.0\n"
     ]
    }
   ],
   "source": [
    "# Input two numbers from the user\n",
    "number1 = float(input(\"Enter the first number: \"))\n",
    "number2 = float(input(\"Enter the second number: \"))\n",
    "\n",
    "# Find the maximum of the two numbers using conditional statements\n",
    "if number1 > number2:\n",
    "    maximum = number1\n",
    "else:\n",
    "    maximum = number2\n",
    "\n",
    "# Display the maximum number\n",
    "print(f\"The maximum of {number1} and {number2} is: {maximum}\")\n"
   ]
  },
  {
   "cell_type": "markdown",
   "id": "2bf682ef-a400-4412-b0b9-19f124e1ab01",
   "metadata": {},
   "source": [
    "## 4. Develop a program that calculates the grade of a student based on their exam score."
   ]
  },
  {
   "cell_type": "code",
   "execution_count": 7,
   "id": "e338e071-2690-4122-8082-0a1c28ed6976",
   "metadata": {},
   "outputs": [
    {
     "name": "stdin",
     "output_type": "stream",
     "text": [
      "Enter the exam score:  95\n"
     ]
    },
    {
     "name": "stdout",
     "output_type": "stream",
     "text": [
      "The grade for an exam score of 95.0 is: A\n"
     ]
    }
   ],
   "source": [
    "# Input the exam score from the user\n",
    "exam_score = float(input(\"Enter the exam score: \"))\n",
    "\n",
    "# Determine the grade based on the exam score using conditional statements\n",
    "if 90 <= exam_score <= 100:\n",
    "    grade = 'A'\n",
    "elif 80 <= exam_score < 90:\n",
    "    grade = 'B'\n",
    "elif 70 <= exam_score < 80:\n",
    "    grade = 'C'\n",
    "elif 60 <= exam_score < 70:\n",
    "    grade = 'D'\n",
    "elif 0 <= exam_score < 60:\n",
    "    grade = 'F'\n",
    "else:\n",
    "    grade = 'Invalid input'\n",
    "\n",
    "# Display the grade\n",
    "if grade != 'Invalid input':\n",
    "    print(f\"The grade for an exam score of {exam_score} is: {grade}\")\n",
    "else:\n",
    "    print(\"Invalid input. Please enter a valid exam score.\")\n"
   ]
  },
  {
   "cell_type": "markdown",
   "id": "bde251b9-65df-47a6-a591-14ff57878c42",
   "metadata": {},
   "source": [
    "## 5. Create a program that checks if a year is a leap year or not."
   ]
  },
  {
   "cell_type": "code",
   "execution_count": 8,
   "id": "7dffaf62-b7d5-49e3-9966-a03b20662e06",
   "metadata": {},
   "outputs": [
    {
     "name": "stdin",
     "output_type": "stream",
     "text": [
      "Enter a year:  2023\n"
     ]
    },
    {
     "name": "stdout",
     "output_type": "stream",
     "text": [
      "2023 is not a leap year.\n"
     ]
    }
   ],
   "source": [
    "# Input the year from the user\n",
    "year = int(input(\"Enter a year: \"))\n",
    "\n",
    "# Check if the year is a leap year using conditional statements\n",
    "if (year % 4 == 0 and year % 100 != 0) or (year % 400 == 0):\n",
    "    print(f\"{year} is a leap year.\")\n",
    "else:\n",
    "    print(f\"{year} is not a leap year.\")\n"
   ]
  },
  {
   "cell_type": "markdown",
   "id": "fd71108b-205b-4484-8de9-c04f3f99477a",
   "metadata": {},
   "source": [
    "## 6. Write a program to classify a triangle based on its sides' lengths."
   ]
  },
  {
   "cell_type": "code",
   "execution_count": 11,
   "id": "b49735d3-06fd-4545-9b85-5307bdf4e572",
   "metadata": {},
   "outputs": [
    {
     "name": "stdin",
     "output_type": "stream",
     "text": [
      "Enter the length of side 1:  10\n",
      "Enter the length of side 2:  10\n",
      "Enter the length of side 3:  20\n"
     ]
    },
    {
     "name": "stdout",
     "output_type": "stream",
     "text": [
      "These side lengths do not form a valid triangle.\n"
     ]
    }
   ],
   "source": [
    "# Input the lengths of the three sides of the triangle\n",
    "side1 = float(input(\"Enter the length of side 1: \"))\n",
    "side2 = float(input(\"Enter the length of side 2: \"))\n",
    "side3 = float(input(\"Enter the length of side 3: \"))\n",
    "\n",
    "# Check the type of triangle based on side lengths\n",
    "if side1 == side2 == side3:\n",
    "    triangle_type = \"Equilateral\"\n",
    "elif side1 == side2 or side2 == side3 or side1 == side3:\n",
    "    triangle_type = \"Isosceles\"\n",
    "else:\n",
    "    triangle_type = \"Scalene\"\n",
    "\n",
    "# Check if it forms a valid triangle\n",
    "valid_triangle = (side1 + side2 > side3) and (side1 + side3 > side2) and (side2 + side3 > side1)\n",
    "\n",
    "# Display the triangle type\n",
    "if valid_triangle:\n",
    "    print(f\"The triangle is a {triangle_type} triangle.\")\n",
    "else:\n",
    "    print(\"These side lengths do not form a valid triangle.\")\n"
   ]
  },
  {
   "cell_type": "markdown",
   "id": "2d1be385-49f9-411d-a11f-f394bbc872f3",
   "metadata": {},
   "source": [
    "## 7. Build a program that determines the largest of three given numbers."
   ]
  },
  {
   "cell_type": "code",
   "execution_count": 12,
   "id": "a1a66c51-c8aa-4939-90b4-5e8696ea7f17",
   "metadata": {},
   "outputs": [
    {
     "name": "stdin",
     "output_type": "stream",
     "text": [
      "Enter the first number:  20\n",
      "Enter the second number:  25\n",
      "Enter the third number:  50\n"
     ]
    },
    {
     "name": "stdout",
     "output_type": "stream",
     "text": [
      "The largest number among 20.0, 25.0, and 50.0 is: 50.0\n"
     ]
    }
   ],
   "source": [
    "# Input three numbers from the user\n",
    "number1 = float(input(\"Enter the first number: \"))\n",
    "number2 = float(input(\"Enter the second number: \"))\n",
    "number3 = float(input(\"Enter the third number: \"))\n",
    "\n",
    "# Determine the largest number using conditional statements\n",
    "if number1 >= number2 and number1 >= number3:\n",
    "    largest = number1\n",
    "elif number2 >= number1 and number2 >= number3:\n",
    "    largest = number2\n",
    "else:\n",
    "    largest = number3\n",
    "\n",
    "# Display the largest number\n",
    "print(f\"The largest number among {number1}, {number2}, and {number3} is: {largest}\")\n"
   ]
  },
  {
   "cell_type": "markdown",
   "id": "90de9d7a-40a6-4612-bf73-baf598ebaaa9",
   "metadata": {},
   "source": [
    "## 8. Develop a program that checks whether a character is a vowel or a consonant."
   ]
  },
  {
   "cell_type": "code",
   "execution_count": 15,
   "id": "2d905370-fe82-471e-97ce-ab8c4c6fc87e",
   "metadata": {},
   "outputs": [
    {
     "name": "stdin",
     "output_type": "stream",
     "text": [
      "Enter a character:  a\n"
     ]
    },
    {
     "name": "stdout",
     "output_type": "stream",
     "text": [
      "a is a vowel.\n"
     ]
    }
   ],
   "source": [
    "# Input a character from the user\n",
    "char = input(\"Enter a character: \")\n",
    "\n",
    "# Convert the input character to lowercase for easier vowel comparison\n",
    "char = char.lower()\n",
    "\n",
    "# Check if the character is a vowel or a consonant using conditional statements\n",
    "if char.isalpha() and len(char) == 1:\n",
    "    if char in 'aeiou':\n",
    "        print(f\"{char} is a vowel.\")\n",
    "    else:\n",
    "        print(f\"{char} is a consonant.\")\n",
    "else:\n",
    "    print(\"Invalid input. Please enter a single alphabet character.\")\n"
   ]
  },
  {
   "cell_type": "markdown",
   "id": "b0978732-1749-4a2f-915f-482195628e38",
   "metadata": {},
   "source": [
    "## 9. Create a program to calculate the total cost of a shopping cart based on discounts."
   ]
  },
  {
   "cell_type": "code",
   "execution_count": 16,
   "id": "a4b2bce3-7e7c-4a4f-830d-0153de751130",
   "metadata": {},
   "outputs": [
    {
     "name": "stdout",
     "output_type": "stream",
     "text": [
      "Available items:\n",
      "item1: $10 (Discount: 10.0%)\n",
      "item2: $15 (Discount: 20.0%)\n",
      "item3: $20 (Discount: 15.0%)\n"
     ]
    },
    {
     "name": "stdin",
     "output_type": "stream",
     "text": [
      "Enter an item (or 'done' to finish shopping):  done\n"
     ]
    },
    {
     "name": "stdout",
     "output_type": "stream",
     "text": [
      "Total cost of items in the shopping cart: $0.00\n"
     ]
    }
   ],
   "source": [
    "# Define a dictionary of items, prices, and discounts\n",
    "items = {\n",
    "    \"item1\": {\"price\": 10, \"discount\": 0.1},\n",
    "    \"item2\": {\"price\": 15, \"discount\": 0.2},\n",
    "    \"item3\": {\"price\": 20, \"discount\": 0.15},\n",
    "}\n",
    "\n",
    "# Initialize the total cost\n",
    "total_cost = 0\n",
    "\n",
    "# Display the available items\n",
    "print(\"Available items:\")\n",
    "for item, details in items.items():\n",
    "    print(f\"{item}: ${details['price']} (Discount: {details['discount'] * 100}%)\")\n",
    "\n",
    "# Input the items and quantities from the user\n",
    "while True:\n",
    "    item = input(\"Enter an item (or 'done' to finish shopping): \")\n",
    "    \n",
    "    if item == 'done':\n",
    "        break\n",
    "    \n",
    "    if item in items:\n",
    "        quantity = int(input(f\"Enter the quantity of {item}: \"))\n",
    "        if quantity > 0:\n",
    "            item_cost = items[item][\"price\"] * (1 - items[item][\"discount\"])\n",
    "            total_cost += item_cost * quantity\n",
    "        else:\n",
    "            print(\"Quantity must be greater than 0.\")\n",
    "    else:\n",
    "        print(\"Item not found. Please choose from the available items.\")\n",
    "\n",
    "# Display the total cost\n",
    "print(f\"Total cost of items in the shopping cart: ${total_cost:.2f}\")\n"
   ]
  },
  {
   "cell_type": "markdown",
   "id": "db40686e-06d0-4311-b5dc-3cf1141c1db1",
   "metadata": {},
   "source": [
    "## 10. Write a program that checks if a given number is even or odd."
   ]
  },
  {
   "cell_type": "code",
   "execution_count": 17,
   "id": "ca56b005-2563-47c8-9685-94f9db03ace0",
   "metadata": {},
   "outputs": [
    {
     "name": "stdin",
     "output_type": "stream",
     "text": [
      "Enter a number:  27\n"
     ]
    },
    {
     "name": "stdout",
     "output_type": "stream",
     "text": [
      "27 is an odd number.\n"
     ]
    }
   ],
   "source": [
    "# Input a number from the user\n",
    "number = int(input(\"Enter a number: \"))\n",
    "\n",
    "# Check if the number is even or odd using conditional statements\n",
    "if number % 2 == 0:\n",
    "    print(f\"{number} is an even number.\")\n",
    "else:\n",
    "    print(f\"{number} is an odd number.\")\n"
   ]
  },
  {
   "cell_type": "markdown",
   "id": "239d855b-dc3c-4d98-84dc-eeb619fd3a5c",
   "metadata": {},
   "source": [
    "# Intermediate Level:"
   ]
  },
  {
   "cell_type": "markdown",
   "id": "f8047425-5d72-44aa-946e-1e0ae6a3590f",
   "metadata": {},
   "source": [
    "## 11. Write a program that calculates the roots of a quadratic equation ."
   ]
  },
  {
   "cell_type": "code",
   "execution_count": 1,
   "id": "60093a43-f0f7-4b35-b0f1-b02a940d4cf9",
   "metadata": {},
   "outputs": [
    {
     "name": "stdin",
     "output_type": "stream",
     "text": [
      "Enter coefficient a:  5\n",
      "Enter coefficient b:  7\n",
      "Enter coefficient c:  9\n"
     ]
    },
    {
     "name": "stdout",
     "output_type": "stream",
     "text": [
      "Root 1: (-0.7+1.1445523142259597j)\n",
      "Root 2: (-0.7-1.1445523142259597j)\n"
     ]
    }
   ],
   "source": [
    "import cmath  # Using cmath for handling complex roots\n",
    "\n",
    "def calculate_roots(a, b, c):\n",
    "    # Calculate the discriminant\n",
    "    delta = cmath.sqrt(b**2 - 4*a*c)\n",
    "\n",
    "    # Calculate the two roots using the quadratic formula\n",
    "    root1 = (-b + delta) / (2*a)\n",
    "    root2 = (-b - delta) / (2*a)\n",
    "\n",
    "    return root1, root2\n",
    "\n",
    "# Get coefficients from the user\n",
    "a = float(input(\"Enter coefficient a: \"))\n",
    "b = float(input(\"Enter coefficient b: \"))\n",
    "c = float(input(\"Enter coefficient c: \"))\n",
    "\n",
    "# Calculate and display the roots\n",
    "roots = calculate_roots(a, b, c)\n",
    "print(\"Root 1:\", roots[0])\n",
    "print(\"Root 2:\", roots[1])\n"
   ]
  },
  {
   "cell_type": "markdown",
   "id": "271ab2e0-0efe-4005-8a40-edfefe617161",
   "metadata": {},
   "source": [
    "## 12. Create a program that determines the day of the week based on the day number (1-7)."
   ]
  },
  {
   "cell_type": "code",
   "execution_count": 3,
   "id": "4dacfe8d-8589-49aa-aaae-77f526c2fbb2",
   "metadata": {},
   "outputs": [
    {
     "name": "stdin",
     "output_type": "stream",
     "text": [
      "Enter a day number (1-7):  5\n"
     ]
    },
    {
     "name": "stdout",
     "output_type": "stream",
     "text": [
      "Day of the week: Friday\n"
     ]
    }
   ],
   "source": [
    "def determine_day_of_week(day_number):\n",
    "    days_of_week = [\"Monday\", \"Tuesday\", \"Wednesday\", \"Thursday\", \"Friday\", \"Saturday\", \"Sunday\"]\n",
    "\n",
    "    if 1 <= day_number <= 7:\n",
    "        return days_of_week[day_number - 1]\n",
    "    else:\n",
    "        return \"Invalid day number. Please enter a number between 1 and 7.\"\n",
    "\n",
    "# Get day number from the user\n",
    "day_number = int(input(\"Enter a day number (1-7): \"))\n",
    "\n",
    "# Determine and display the day of the week\n",
    "day_of_week = determine_day_of_week(day_number)\n",
    "print(\"Day of the week:\", day_of_week)\n"
   ]
  },
  {
   "cell_type": "markdown",
   "id": "43aab948-32d2-4342-be18-47cd7dd5a89b",
   "metadata": {},
   "source": [
    "## 13. Develop a program that calculates the factorial of a given number using recursion."
   ]
  },
  {
   "cell_type": "code",
   "execution_count": 4,
   "id": "0df55b4e-12cc-405c-8220-df091c4f40ee",
   "metadata": {},
   "outputs": [
    {
     "name": "stdin",
     "output_type": "stream",
     "text": [
      "Enter a number:  55\n"
     ]
    },
    {
     "name": "stdout",
     "output_type": "stream",
     "text": [
      "The factorial of 55 is: 12696403353658275925965100847566516959580321051449436762275840000000000000\n"
     ]
    }
   ],
   "source": [
    "def calculate_factorial(n):\n",
    "    if n == 0 or n == 1:\n",
    "        return 1\n",
    "    else:\n",
    "        return n * calculate_factorial(n - 1)\n",
    "\n",
    "# Get the number from the user\n",
    "number = int(input(\"Enter a number: \"))\n",
    "\n",
    "# Calculate and display the factorial\n",
    "factorial_result = calculate_factorial(number)\n",
    "print(f\"The factorial of {number} is: {factorial_result}\")\n"
   ]
  },
  {
   "cell_type": "markdown",
   "id": "bcde38a8-8abe-4a0d-b3c6-13cebb01324f",
   "metadata": {},
   "source": [
    "## 14. Write a program to find the largest among three numbers without using the `max()` function."
   ]
  },
  {
   "cell_type": "code",
   "execution_count": 5,
   "id": "15d2e810-a101-41ad-8d17-0edb59501218",
   "metadata": {},
   "outputs": [
    {
     "name": "stdin",
     "output_type": "stream",
     "text": [
      "Enter the first number:  10\n",
      "Enter the second number:  25\n",
      "Enter the third number:  14\n"
     ]
    },
    {
     "name": "stdout",
     "output_type": "stream",
     "text": [
      "The largest number is: 25.0\n"
     ]
    }
   ],
   "source": [
    "def find_largest_number(num1, num2, num3):\n",
    "    if num1 >= num2 and num1 >= num3:\n",
    "        return num1\n",
    "    elif num2 >= num1 and num2 >= num3:\n",
    "        return num2\n",
    "    else:\n",
    "        return num3\n",
    "\n",
    "# Get three numbers from the user\n",
    "num1 = float(input(\"Enter the first number: \"))\n",
    "num2 = float(input(\"Enter the second number: \"))\n",
    "num3 = float(input(\"Enter the third number: \"))\n",
    "\n",
    "# Find and display the largest number\n",
    "largest_number = find_largest_number(num1, num2, num3)\n",
    "print(\"The largest number is:\", largest_number)\n"
   ]
  },
  {
   "cell_type": "markdown",
   "id": "c3756ab5-71fc-4fc3-ae04-421af8fe4829",
   "metadata": {},
   "source": [
    "## 15. Create a program that simulates a basic ATM transaction menu."
   ]
  },
  {
   "cell_type": "code",
   "execution_count": 6,
   "id": "e8121159-0ab0-4aaa-a14a-292492df6dbc",
   "metadata": {},
   "outputs": [
    {
     "name": "stdout",
     "output_type": "stream",
     "text": [
      "**** ATM Transaction Menu ****\n",
      "1. Check Balance\n",
      "2. Deposit Money\n",
      "3. Withdraw Money\n",
      "4. Quit\n"
     ]
    },
    {
     "name": "stdin",
     "output_type": "stream",
     "text": [
      "Enter your choice (1-4):  2\n",
      "Enter the deposit amount: $ 2000\n"
     ]
    },
    {
     "name": "stdout",
     "output_type": "stream",
     "text": [
      "$2000.0 has been deposited successfully. Your new balance is: $3000.0\n",
      "**** ATM Transaction Menu ****\n",
      "1. Check Balance\n",
      "2. Deposit Money\n",
      "3. Withdraw Money\n",
      "4. Quit\n"
     ]
    },
    {
     "name": "stdin",
     "output_type": "stream",
     "text": [
      "Enter your choice (1-4):  4\n"
     ]
    },
    {
     "name": "stdout",
     "output_type": "stream",
     "text": [
      "Thank you for using the ATM. Goodbye!\n"
     ]
    }
   ],
   "source": [
    "def display_menu():\n",
    "    print(\"**** ATM Transaction Menu ****\")\n",
    "    print(\"1. Check Balance\")\n",
    "    print(\"2. Deposit Money\")\n",
    "    print(\"3. Withdraw Money\")\n",
    "    print(\"4. Quit\")\n",
    "\n",
    "def check_balance(balance):\n",
    "    print(f\"Your balance is: ${balance}\")\n",
    "\n",
    "def deposit_money(balance):\n",
    "    amount = float(input(\"Enter the deposit amount: $\"))\n",
    "    balance += amount\n",
    "    print(f\"${amount} has been deposited successfully. Your new balance is: ${balance}\")\n",
    "    return balance\n",
    "\n",
    "def withdraw_money(balance):\n",
    "    amount = float(input(\"Enter the withdrawal amount: $\"))\n",
    "    if amount > balance:\n",
    "        print(\"Insufficient funds. Withdrawal failed.\")\n",
    "    else:\n",
    "        balance -= amount\n",
    "        print(f\"${amount} has been withdrawn successfully. Your new balance is: ${balance}\")\n",
    "    return balance\n",
    "\n",
    "# Initial balance\n",
    "account_balance = 1000.00\n",
    "\n",
    "while True:\n",
    "    display_menu()\n",
    "\n",
    "    choice = input(\"Enter your choice (1-4): \")\n",
    "\n",
    "    if choice == \"1\":\n",
    "        check_balance(account_balance)\n",
    "    elif choice == \"2\":\n",
    "        account_balance = deposit_money(account_balance)\n",
    "    elif choice == \"3\":\n",
    "        account_balance = withdraw_money(account_balance)\n",
    "    elif choice == \"4\":\n",
    "        print(\"Thank you for using the ATM. Goodbye!\")\n",
    "        break\n",
    "    else:\n",
    "        print(\"Invalid choice. Please enter a number between 1 and 4.\")\n"
   ]
  },
  {
   "cell_type": "markdown",
   "id": "65835e47-41b0-4176-a12f-3701ad80e811",
   "metadata": {},
   "source": [
    "## 16. Build a program that checks if a given string is a palindrome or not."
   ]
  },
  {
   "cell_type": "code",
   "execution_count": 7,
   "id": "8beaeabb-14ef-40c0-817f-4e50652e7243",
   "metadata": {},
   "outputs": [
    {
     "name": "stdin",
     "output_type": "stream",
     "text": [
      "Enter a string:  madam\n"
     ]
    },
    {
     "name": "stdout",
     "output_type": "stream",
     "text": [
      "The entered string is a palindrome.\n"
     ]
    }
   ],
   "source": [
    "def is_palindrome(s):\n",
    "    # Remove spaces and convert to lowercase for case-insensitive comparison\n",
    "    cleaned_string = ''.join(s.split()).lower()\n",
    "    return cleaned_string == cleaned_string[::-1]\n",
    "\n",
    "# Get a string from the user\n",
    "input_string = input(\"Enter a string: \")\n",
    "\n",
    "# Check if the string is a palindrome\n",
    "if is_palindrome(input_string):\n",
    "    print(\"The entered string is a palindrome.\")\n",
    "else:\n",
    "    print(\"The entered string is not a palindrome.\")\n"
   ]
  },
  {
   "cell_type": "markdown",
   "id": "1c401c21-6358-4e2f-bb90-e6c762979cab",
   "metadata": {},
   "source": [
    "## 17. Write a program that calculates the average of a list of numbers, excluding the smallest and largest values."
   ]
  },
  {
   "cell_type": "code",
   "execution_count": 12,
   "id": "b55781ba-030c-4f94-9890-1acc64d2a116",
   "metadata": {},
   "outputs": [
    {
     "name": "stdin",
     "output_type": "stream",
     "text": [
      "Enter a list of numbers separated by spaces:  464646411467764\n"
     ]
    },
    {
     "name": "stdout",
     "output_type": "stream",
     "text": [
      "At least three numbers are required.\n"
     ]
    }
   ],
   "source": [
    "def calculate_average(numbers):\n",
    "    if len(numbers) < 3:\n",
    "        print(\"At least three numbers are required.\")\n",
    "        return\n",
    "\n",
    "    # Exclude the smallest and largest values\n",
    "    numbers.sort()\n",
    "    trimmed_numbers = numbers[1:-1]\n",
    "\n",
    "    # Calculate the average\n",
    "    average = sum(trimmed_numbers) / len(trimmed_numbers)\n",
    "    return average\n",
    "\n",
    "# Get a list of numbers from the user\n",
    "numbers_str = input(\"Enter a list of numbers separated by spaces: \")\n",
    "numbers = [float(num) for num in numbers_str.split()]\n",
    "\n",
    "# Calculate and display the average\n",
    "result = calculate_average(numbers)\n",
    "\n",
    "if result is not None:\n",
    "    print(\"The average (excluding the smallest and largest values) is:\", result)\n"
   ]
  },
  {
   "cell_type": "markdown",
   "id": "ba5faab0-36bc-46d0-aab6-4cfa088aaa4a",
   "metadata": {},
   "source": [
    "## 18. Develop a program that converts a given temperature from Celsius to Fahrenheit."
   ]
  },
  {
   "cell_type": "code",
   "execution_count": 13,
   "id": "79ffa391-9e27-47d6-8467-80a44fe4dfee",
   "metadata": {},
   "outputs": [
    {
     "name": "stdin",
     "output_type": "stream",
     "text": [
      "Enter the temperature in Celsius:  45\n"
     ]
    },
    {
     "name": "stdout",
     "output_type": "stream",
     "text": [
      "45.0 degrees Celsius is equal to 113.00 degrees Fahrenheit.\n"
     ]
    }
   ],
   "source": [
    "def celsius_to_fahrenheit(celsius):\n",
    "    fahrenheit = (celsius * 9/5) + 32\n",
    "    return fahrenheit\n",
    "\n",
    "# Get the temperature in Celsius from the user\n",
    "celsius_temperature = float(input(\"Enter the temperature in Celsius: \"))\n",
    "\n",
    "# Convert and display the temperature in Fahrenheit\n",
    "fahrenheit_temperature = celsius_to_fahrenheit(celsius_temperature)\n",
    "print(f\"{celsius_temperature} degrees Celsius is equal to {fahrenheit_temperature:.2f} degrees Fahrenheit.\")\n",
    "\n"
   ]
  },
  {
   "cell_type": "markdown",
   "id": "9b1c32ff-6bb2-417e-8328-d4fd273d9c22",
   "metadata": {},
   "source": [
    "## 19. Create a program that simulates a basic calculator for addition, subtraction, multiplication, and division."
   ]
  },
  {
   "cell_type": "code",
   "execution_count": 14,
   "id": "d4b5e193-4e14-48a4-a693-b1c04d51315b",
   "metadata": {},
   "outputs": [
    {
     "name": "stdout",
     "output_type": "stream",
     "text": [
      "**** Basic Calculator ****\n",
      "1. Addition\n",
      "2. Subtraction\n",
      "3. Multiplication\n",
      "4. Division\n"
     ]
    },
    {
     "name": "stdin",
     "output_type": "stream",
     "text": [
      "Enter choice (1-4):  1\n",
      "Enter first number:  12\n",
      "Enter second number:  5\n"
     ]
    },
    {
     "name": "stdout",
     "output_type": "stream",
     "text": [
      "Addition result: 17.0\n"
     ]
    }
   ],
   "source": [
    "def add(x, y):\n",
    "    return x + y\n",
    "\n",
    "def subtract(x, y):\n",
    "    return x - y\n",
    "\n",
    "def multiply(x, y):\n",
    "    return x * y\n",
    "\n",
    "def divide(x, y):\n",
    "    if y != 0:\n",
    "        return x / y\n",
    "    else:\n",
    "        return \"Error: Division by zero\"\n",
    "\n",
    "# Display the calculator menu\n",
    "print(\"**** Basic Calculator ****\")\n",
    "print(\"1. Addition\")\n",
    "print(\"2. Subtraction\")\n",
    "print(\"3. Multiplication\")\n",
    "print(\"4. Division\")\n",
    "\n",
    "# Get user input for operation choice\n",
    "choice = input(\"Enter choice (1-4): \")\n",
    "\n",
    "# Get user input for numbers\n",
    "num1 = float(input(\"Enter first number: \"))\n",
    "num2 = float(input(\"Enter second number: \"))\n",
    "\n",
    "# Perform the selected operation\n",
    "if choice == \"1\":\n",
    "    result = add(num1, num2)\n",
    "    operation = \"Addition\"\n",
    "elif choice == \"2\":\n",
    "    result = subtract(num1, num2)\n",
    "    operation = \"Subtraction\"\n",
    "elif choice == \"3\":\n",
    "    result = multiply(num1, num2)\n",
    "    operation = \"Multiplication\"\n",
    "elif choice == \"4\":\n",
    "    result = divide(num1, num2)\n",
    "    operation = \"Division\"\n",
    "else:\n",
    "    print(\"Invalid choice. Please enter a number between 1 and 4.\")\n",
    "    result = None\n",
    "\n",
    "# Display the result\n",
    "if result is not None:\n",
    "    print(f\"{operation} result: {result}\")\n"
   ]
  },
  {
   "cell_type": "markdown",
   "id": "d2696a7a-6b24-48d1-bb4f-8148b69e6020",
   "metadata": {},
   "source": [
    "## 20. Write a program that determines the roots of a cubic equation using the Cardano formula."
   ]
  },
  {
   "cell_type": "code",
   "execution_count": 15,
   "id": "5e667e60-5e2e-4f15-b287-eede107590fe",
   "metadata": {},
   "outputs": [
    {
     "name": "stdin",
     "output_type": "stream",
     "text": [
      "Enter coefficient a:  4\n",
      "Enter coefficient b:  5\n",
      "Enter coefficient c:  3\n",
      "Enter coefficient d:  2\n"
     ]
    },
    {
     "name": "stdout",
     "output_type": "stream",
     "text": [
      "Root 1: (-0.47065268107284625+0j)\n",
      "Root 2: (-0.3896736594635769-1.5214091715622065j)\n",
      "Root 3: (-0.38967365946357685+1.5214091715622058j)\n"
     ]
    }
   ],
   "source": [
    "import cmath  # Using cmath for handling complex roots\n",
    "\n",
    "def calculate_cubic_roots(a, b, c, d):\n",
    "    # Calculate the discriminant\n",
    "    delta0 = c**2 - 3*b*a*d\n",
    "    delta1 = 2*c**3 - 9*b*c*d + 27*a*d**2\n",
    "    delta = delta1**2 - 4*delta0**3\n",
    "\n",
    "    # Calculate the roots using the Cardano formula\n",
    "    C = ((delta1 + cmath.sqrt(delta)) / 2)**(1/3)\n",
    "    if C != 0:\n",
    "        root1 = -(1 / (3*a)) * (b + C + delta0/C)\n",
    "    else:\n",
    "        root1 = -b / (3*a)\n",
    "\n",
    "    omega = cmath.exp(2j * cmath.pi / 3)\n",
    "    root2 = -(1 / (3*a)) * (b + omega*C + delta0/(omega*C))\n",
    "    root3 = -(1 / (3*a)) * (b + omega**2*C + delta0/(omega**2*C))\n",
    "\n",
    "    return root1, root2, root3\n",
    "\n",
    "# Get coefficients from the user\n",
    "a = float(input(\"Enter coefficient a: \"))\n",
    "b = float(input(\"Enter coefficient b: \"))\n",
    "c = float(input(\"Enter coefficient c: \"))\n",
    "d = float(input(\"Enter coefficient d: \"))\n",
    "\n",
    "# Calculate and display the roots\n",
    "roots = calculate_cubic_roots(a, b, c, d)\n",
    "print(\"Root 1:\", roots[0])\n",
    "print(\"Root 2:\", roots[1])\n",
    "print(\"Root 3:\", roots[2])\n"
   ]
  },
  {
   "cell_type": "markdown",
   "id": "837186d5-00a3-40b2-ae9f-3ee9317c0da3",
   "metadata": {},
   "source": [
    "# Advanced Level:"
   ]
  },
  {
   "cell_type": "markdown",
   "id": "7cd602b8-5363-49ba-844c-bdaffbe64b78",
   "metadata": {},
   "source": [
    "## 21. Create a program that calculates the income tax based on the user's income and tax brackets."
   ]
  },
  {
   "cell_type": "code",
   "execution_count": 16,
   "id": "f460b07d-cc47-4f8f-abe5-7299d622bbd0",
   "metadata": {},
   "outputs": [
    {
     "name": "stdin",
     "output_type": "stream",
     "text": [
      "Enter your income:  50000\n"
     ]
    },
    {
     "name": "stdout",
     "output_type": "stream",
     "text": [
      "Your income tax is: $7000.00\n"
     ]
    }
   ],
   "source": [
    "def calculate_income_tax(income):\n",
    "    # Define tax brackets and rates\n",
    "    brackets = [10000, 40000, 80000, float('inf')]\n",
    "    rates = [0.1, 0.2, 0.3, 0.4]\n",
    "\n",
    "    # Initialize variables\n",
    "    tax = 0\n",
    "    remaining_income = income\n",
    "\n",
    "    # Calculate tax using tax brackets\n",
    "    for i in range(len(brackets) - 1):\n",
    "        if remaining_income > brackets[i + 1]:\n",
    "            tax += (brackets[i + 1] - brackets[i]) * rates[i]\n",
    "            remaining_income -= (brackets[i + 1] - brackets[i])\n",
    "        else:\n",
    "            tax += remaining_income * rates[i]\n",
    "            break\n",
    "\n",
    "    return tax\n",
    "\n",
    "# Get user input for income\n",
    "income = float(input(\"Enter your income: \"))\n",
    "\n",
    "# Calculate and display income tax\n",
    "income_tax = calculate_income_tax(income)\n",
    "print(f\"Your income tax is: ${income_tax:.2f}\")\n"
   ]
  },
  {
   "cell_type": "markdown",
   "id": "981042e5-93f3-4d0d-82b6-1fbefe7e19d1",
   "metadata": {},
   "source": [
    "## 22. Write a program that simulates a rock-paper-scissors game against the computer."
   ]
  },
  {
   "cell_type": "code",
   "execution_count": 17,
   "id": "48c3420d-80cf-40d3-9115-19ec901caed7",
   "metadata": {},
   "outputs": [
    {
     "name": "stdin",
     "output_type": "stream",
     "text": [
      "Enter your choice (rock, paper, scissors):  rock\n"
     ]
    },
    {
     "name": "stdout",
     "output_type": "stream",
     "text": [
      "You chose: rock\n",
      "Computer chose: paper\n",
      "Computer wins!\n"
     ]
    },
    {
     "name": "stdin",
     "output_type": "stream",
     "text": [
      "Do you want to play again? (yes/no):  no\n"
     ]
    },
    {
     "name": "stdout",
     "output_type": "stream",
     "text": [
      "Thanks for playing. Goodbye!\n"
     ]
    }
   ],
   "source": [
    "import random\n",
    "\n",
    "def get_user_choice():\n",
    "    while True:\n",
    "        user_choice = input(\"Enter your choice (rock, paper, scissors): \").lower()\n",
    "        if user_choice in [\"rock\", \"paper\", \"scissors\"]:\n",
    "            return user_choice\n",
    "        else:\n",
    "            print(\"Invalid choice. Please enter rock, paper, or scissors.\")\n",
    "\n",
    "def get_computer_choice():\n",
    "    choices = [\"rock\", \"paper\", \"scissors\"]\n",
    "    return random.choice(choices)\n",
    "\n",
    "def determine_winner(user_choice, computer_choice):\n",
    "    if user_choice == computer_choice:\n",
    "        return \"It's a tie!\"\n",
    "    elif (\n",
    "        (user_choice == \"rock\" and computer_choice == \"scissors\") or\n",
    "        (user_choice == \"paper\" and computer_choice == \"rock\") or\n",
    "        (user_choice == \"scissors\" and computer_choice == \"paper\")\n",
    "    ):\n",
    "        return \"You win!\"\n",
    "    else:\n",
    "        return \"Computer wins!\"\n",
    "\n",
    "# Main game loop\n",
    "while True:\n",
    "    user_choice = get_user_choice()\n",
    "    computer_choice = get_computer_choice()\n",
    "\n",
    "    print(f\"You chose: {user_choice}\")\n",
    "    print(f\"Computer chose: {computer_choice}\")\n",
    "\n",
    "    result = determine_winner(user_choice, computer_choice)\n",
    "    print(result)\n",
    "\n",
    "    play_again = input(\"Do you want to play again? (yes/no): \").lower()\n",
    "    if play_again != \"yes\":\n",
    "        print(\"Thanks for playing. Goodbye!\")\n",
    "        break\n"
   ]
  },
  {
   "cell_type": "markdown",
   "id": "507b3eb9-3056-42e7-850c-5297bb530dfa",
   "metadata": {},
   "source": [
    "## 23. Develop a program that generates a random password based on user preferences (length, complexity)."
   ]
  },
  {
   "cell_type": "code",
   "execution_count": 19,
   "id": "adae5271-c1c4-46aa-a2df-9250a7d07b5f",
   "metadata": {},
   "outputs": [
    {
     "name": "stdin",
     "output_type": "stream",
     "text": [
      "Enter the desired password length:  10\n",
      "Include uppercase letters? (yes/no):  yes\n",
      "Include digits? (yes/no):  yes\n",
      "Include special characters? (yes/no):  yes\n"
     ]
    },
    {
     "name": "stdout",
     "output_type": "stream",
     "text": [
      "Generated Password: Ii*LeP5WV+\n"
     ]
    }
   ],
   "source": [
    "import random\n",
    "import string\n",
    "\n",
    "def generate_password(length, include_uppercase, include_digits, include_special_chars):\n",
    "    characters = string.ascii_lowercase\n",
    "    if include_uppercase:\n",
    "        characters += string.ascii_uppercase\n",
    "    if include_digits:\n",
    "        characters += string.digits\n",
    "    if include_special_chars:\n",
    "        characters += string.punctuation\n",
    "\n",
    "    if length < 1:\n",
    "        print(\"Password length must be at least 1.\")\n",
    "        return None\n",
    "\n",
    "    password = ''.join(random.choice(characters) for _ in range(length))\n",
    "    return password\n",
    "\n",
    "# Get user preferences for password generation\n",
    "length = int(input(\"Enter the desired password length: \"))\n",
    "include_uppercase = input(\"Include uppercase letters? (yes/no): \").lower() == \"yes\"\n",
    "include_digits = input(\"Include digits? (yes/no): \").lower() == \"yes\"\n",
    "include_special_chars = input(\"Include special characters? (yes/no): \").lower() == \"yes\"\n",
    "\n",
    "# Generate and display the password\n",
    "password = generate_password(length, include_uppercase, include_digits, include_special_chars)\n",
    "\n",
    "if password:\n",
    "    print(\"Generated Password:\", password)\n"
   ]
  },
  {
   "cell_type": "markdown",
   "id": "eea2b90f-e1c5-44e2-a187-07cfc7d985b9",
   "metadata": {},
   "source": [
    "## 24. Create a program that implements a simple text-based adventure game with branching scenarios."
   ]
  },
  {
   "cell_type": "code",
   "execution_count": 20,
   "id": "2f9cec30-5c68-4d73-a66a-c1429031b522",
   "metadata": {},
   "outputs": [
    {
     "name": "stdout",
     "output_type": "stream",
     "text": [
      "Welcome to the Text Adventure Game!\n",
      "You find yourself standing in front of a mysterious cave.\n",
      "What do you want to do?\n",
      "1. Enter the cave.\n",
      "2. Walk away from the cave.\n"
     ]
    },
    {
     "name": "stdin",
     "output_type": "stream",
     "text": [
      "Enter your choice (1 or 2):  2\n"
     ]
    },
    {
     "name": "stdout",
     "output_type": "stream",
     "text": [
      "You decide to walk away. The adventure ends.\n"
     ]
    }
   ],
   "source": [
    "import time\n",
    "\n",
    "def introduction():\n",
    "    print(\"Welcome to the Text Adventure Game!\")\n",
    "    time.sleep(1)\n",
    "    print(\"You find yourself standing in front of a mysterious cave.\")\n",
    "    time.sleep(1)\n",
    "    print(\"What do you want to do?\")\n",
    "\n",
    "def choose_path():\n",
    "    print(\"1. Enter the cave.\")\n",
    "    print(\"2. Walk away from the cave.\")\n",
    "\n",
    "    choice = input(\"Enter your choice (1 or 2): \")\n",
    "    return choice\n",
    "\n",
    "def cave_scenario():\n",
    "    print(\"You enter the dark cave and see two tunnels.\")\n",
    "    time.sleep(1)\n",
    "    print(\"1. Take the left tunnel.\")\n",
    "    print(\"2. Take the right tunnel.\")\n",
    "\n",
    "    choice = input(\"Enter your choice (1 or 2): \")\n",
    "\n",
    "    if choice == \"1\":\n",
    "        print(\"You encounter a friendly group of bats.\")\n",
    "        time.sleep(1)\n",
    "        print(\"They guide you to a hidden treasure!\")\n",
    "    elif choice == \"2\":\n",
    "        print(\"You step into a trap and fall into a pit.\")\n",
    "        time.sleep(1)\n",
    "        print(\"Game Over! You're stuck in the pit.\")\n",
    "\n",
    "def main():\n",
    "    introduction()\n",
    "    time.sleep(1)\n",
    "    path_choice = choose_path()\n",
    "\n",
    "    if path_choice == \"1\":\n",
    "        cave_scenario()\n",
    "    elif path_choice == \"2\":\n",
    "        print(\"You decide to walk away. The adventure ends.\")\n",
    "\n",
    "if __name__ == \"__main__\":\n",
    "    main()\n"
   ]
  },
  {
   "cell_type": "markdown",
   "id": "3c56d1aa-00a3-4c10-bb84-a4107c33e3ad",
   "metadata": {},
   "source": [
    "## 25. Build a program that solves a linear equation for x, considering different cases."
   ]
  },
  {
   "cell_type": "code",
   "execution_count": 21,
   "id": "9028e123-1932-4341-b0f5-515c189f5ff9",
   "metadata": {},
   "outputs": [
    {
     "name": "stdin",
     "output_type": "stream",
     "text": [
      "Enter coefficient a:  10\n",
      "Enter coefficient b:  20\n"
     ]
    },
    {
     "name": "stdout",
     "output_type": "stream",
     "text": [
      "The solution for x is: -2.0\n"
     ]
    }
   ],
   "source": [
    "def solve_linear_equation(a, b):\n",
    "    if a == 0:\n",
    "        if b == 0:\n",
    "            return \"Infinite solutions (all real numbers are solutions)\"\n",
    "        else:\n",
    "            return \"No solution (the equation is inconsistent)\"\n",
    "    else:\n",
    "        x = -b / a\n",
    "        return f\"The solution for x is: {x}\"\n",
    "\n",
    "# Get coefficients from the user\n",
    "a = float(input(\"Enter coefficient a: \"))\n",
    "b = float(input(\"Enter coefficient b: \"))\n",
    "\n",
    "# Solve and display the linear equation\n",
    "result = solve_linear_equation(a, b)\n",
    "print(result)\n"
   ]
  },
  {
   "cell_type": "markdown",
   "id": "7e013204-b57d-4bf5-a55a-d4b3b9a45c87",
   "metadata": {},
   "source": [
    "## 26. Write a program that simulates a basic quiz game with multiple-choice questions and scoring."
   ]
  },
  {
   "cell_type": "code",
   "execution_count": 25,
   "id": "fe82e665-8cc5-438f-a850-e710ef78ccb7",
   "metadata": {},
   "outputs": [
    {
     "name": "stdout",
     "output_type": "stream",
     "text": [
      "What is the largest mammal?\n",
      "1. Elephant\n",
      "2. Blue Whale\n",
      "3. Giraffe\n",
      "4. Hippopotamus\n"
     ]
    },
    {
     "name": "stdin",
     "output_type": "stream",
     "text": [
      "Enter the number of your answer:  2\n"
     ]
    },
    {
     "name": "stdout",
     "output_type": "stream",
     "text": [
      "Correct!\n",
      "\n",
      "What is the largest mammal?\n",
      "1. Elephant\n",
      "2. Blue Whale\n",
      "3. Giraffe\n",
      "4. Hippopotamus\n"
     ]
    },
    {
     "name": "stdin",
     "output_type": "stream",
     "text": [
      "Enter the number of your answer:  2\n"
     ]
    },
    {
     "name": "stdout",
     "output_type": "stream",
     "text": [
      "Correct!\n",
      "\n",
      "Which planet is known as the Red Planet?\n",
      "1. Venus\n",
      "2. Mars\n",
      "3. Jupiter\n",
      "4. Saturn\n"
     ]
    },
    {
     "name": "stdin",
     "output_type": "stream",
     "text": [
      "Enter the number of your answer:  2\n"
     ]
    },
    {
     "name": "stdout",
     "output_type": "stream",
     "text": [
      "Correct!\n",
      "\n",
      "Quiz complete! Your score: 3/3\n"
     ]
    }
   ],
   "source": [
    "import random\n",
    "\n",
    "def display_question(question, choices):\n",
    "    print(question)\n",
    "    for i, choice in enumerate(choices, start=1):\n",
    "        print(f\"{i}. {choice}\")\n",
    "    user_answer = input(\"Enter the number of your answer: \")\n",
    "    return int(user_answer)\n",
    "\n",
    "def generate_question():\n",
    "    questions = [\n",
    "        {\n",
    "            \"question\": \"What is the capital of France?\",\n",
    "            \"choices\": [\"Berlin\", \"Madrid\", \"Paris\", \"Rome\"],\n",
    "            \"correct_answer\": 3,\n",
    "        },\n",
    "        {\n",
    "            \"question\": \"Which planet is known as the Red Planet?\",\n",
    "            \"choices\": [\"Venus\", \"Mars\", \"Jupiter\", \"Saturn\"],\n",
    "            \"correct_answer\": 2,\n",
    "        },\n",
    "        {\n",
    "            \"question\": \"What is the largest mammal?\",\n",
    "            \"choices\": [\"Elephant\", \"Blue Whale\", \"Giraffe\", \"Hippopotamus\"],\n",
    "            \"correct_answer\": 2,\n",
    "        },\n",
    "    ]\n",
    "    return random.choice(questions)\n",
    "\n",
    "def quiz():\n",
    "    score = 0\n",
    "    for _ in range(3):  # Change the range to set the number of questions\n",
    "        question_data = generate_question()\n",
    "        user_answer = display_question(question_data[\"question\"], question_data[\"choices\"])\n",
    "\n",
    "        if user_answer == question_data[\"correct_answer\"]:\n",
    "            print(\"Correct!\\n\")\n",
    "            score += 1\n",
    "        else:\n",
    "            print(f\"Wrong! The correct answer was {question_data['correct_answer']}: {question_data['choices'][question_data['correct_answer'] - 1]}\\n\")\n",
    "\n",
    "    print(f\"Quiz complete! Your score: {score}/3\")\n",
    "\n",
    "# Run the quiz\n",
    "quiz()\n"
   ]
  },
  {
   "cell_type": "markdown",
   "id": "b75dabe2-0ff6-489a-9c67-5176347e099e",
   "metadata": {},
   "source": [
    "## 27. Develop a program that determines whether a given year is a prime number or not."
   ]
  },
  {
   "cell_type": "code",
   "execution_count": 26,
   "id": "e688738d-3af6-4bb1-898b-eac1fdbfb187",
   "metadata": {},
   "outputs": [
    {
     "name": "stdin",
     "output_type": "stream",
     "text": [
      "Enter a year:  27\n"
     ]
    },
    {
     "name": "stdout",
     "output_type": "stream",
     "text": [
      "27 is not a prime year.\n"
     ]
    }
   ],
   "source": [
    "def is_prime(year):\n",
    "    if year < 2:\n",
    "        return False\n",
    "    for i in range(2, int(year**0.5) + 1):\n",
    "        if year % i == 0:\n",
    "            return False\n",
    "    return True\n",
    "\n",
    "# Get the year from the user\n",
    "year = int(input(\"Enter a year: \"))\n",
    "\n",
    "# Check and display whether the year is prime or not\n",
    "if is_prime(year):\n",
    "    print(f\"{year} is a prime year.\")\n",
    "else:\n",
    "    print(f\"{year} is not a prime year.\")\n"
   ]
  },
  {
   "cell_type": "markdown",
   "id": "22075d6d-af3d-4262-a020-8bc1b24e5238",
   "metadata": {},
   "source": [
    "## 28. Create a program that sorts three numbers in ascending order using conditional statements."
   ]
  },
  {
   "cell_type": "code",
   "execution_count": null,
   "id": "7a675c95-f781-401e-956c-4fc3ed897fdd",
   "metadata": {},
   "outputs": [
    {
     "name": "stdin",
     "output_type": "stream",
     "text": [
      "Enter the first number:  25\n",
      "Enter the second number:  10\n",
      "Enter the third number:  27\n"
     ]
    },
    {
     "name": "stdout",
     "output_type": "stream",
     "text": [
      "The numbers in ascending order are: 10.0, 25.0, 27.0\n"
     ]
    }
   ],
   "source": [
    "# Get three numbers from the user\n",
    "num1 = float(input(\"Enter the first number: \"))\n",
    "num2 = float(input(\"Enter the second number: \"))\n",
    "num3 = float(input(\"Enter the third number: \"))\n",
    "\n",
    "# Use conditional statements to sort the numbers in ascending order\n",
    "if num1 <= num2 and num1 <= num3:\n",
    "    smallest = num1\n",
    "    if num2 <= num3:\n",
    "        middle = num2\n",
    "        largest = num3\n",
    "    else:\n",
    "        middle = num3\n",
    "        largest = num2\n",
    "elif num2 <= num1 and num2 <= num3:\n",
    "    smallest = num2\n",
    "    if num1 <= num3:\n",
    "        middle = num1\n",
    "        largest = num3\n",
    "    else:\n",
    "        middle = num3\n",
    "        largest = num1\n",
    "else:\n",
    "    smallest = num3\n",
    "    if num1 <= num2:\n",
    "        middle = num1\n",
    "        largest = num2\n",
    "    else:\n",
    "        middle = num2\n",
    "        largest = num1\n",
    "\n",
    "# Display the sorted numbers\n",
    "print(f\"The numbers in ascending order are: {smallest}, {middle}, {largest}\")\n"
   ]
  },
  {
   "cell_type": "markdown",
   "id": "18e5bfaa-a788-44f6-bcf4-e739651c0ac1",
   "metadata": {},
   "source": [
    "## 29. Build a program that determines the roots of a quartic equation using numerical methods."
   ]
  },
  {
   "cell_type": "code",
   "execution_count": 28,
   "id": "5cf672a3-48bb-4632-a511-dacf74cc340d",
   "metadata": {},
   "outputs": [
    {
     "name": "stdin",
     "output_type": "stream",
     "text": [
      "Enter coefficient a:  25\n",
      "Enter coefficient b:  20\n",
      "Enter coefficient c:  26\n",
      "Enter coefficient d:  28\n",
      "Enter coefficient e:  14\n"
     ]
    },
    {
     "name": "stdout",
     "output_type": "stream",
     "text": [
      "Quartic roots: [-0.624264068711929 - 0.357003725527633*I, -0.624264068711929 + 0.357003725527633*I, 0.224264068711929 - 1.01614385790566*I, 0.224264068711929 + 1.01614385790566*I]\n"
     ]
    }
   ],
   "source": [
    "from sympy import symbols, solve\n",
    "\n",
    "def find_quartic_roots(a, b, c, d, e):\n",
    "    # Define the variable\n",
    "    x = symbols('x')\n",
    "\n",
    "    # Create the quartic equation\n",
    "    equation = a * x**4 + b * x**3 + c * x**2 + d * x + e\n",
    "\n",
    "    # Find the roots\n",
    "    roots = solve(equation, x)\n",
    "\n",
    "    return roots\n",
    "\n",
    "# Get coefficients from the user\n",
    "a = float(input(\"Enter coefficient a: \"))\n",
    "b = float(input(\"Enter coefficient b: \"))\n",
    "c = float(input(\"Enter coefficient c: \"))\n",
    "d = float(input(\"Enter coefficient d: \"))\n",
    "e = float(input(\"Enter coefficient e: \"))\n",
    "\n",
    "# Calculate and display the roots\n",
    "quartic_roots = find_quartic_roots(a, b, c, d, e)\n",
    "print(\"Quartic roots:\", quartic_roots)\n"
   ]
  },
  {
   "cell_type": "markdown",
   "id": "69cbacd3-0e8b-4f30-bc57-8ef46c7da334",
   "metadata": {},
   "source": [
    "## 30. Write a program that calculates the BMI (Body Mass Index) and provides health recommendations based on this user's input.\n"
   ]
  },
  {
   "cell_type": "code",
   "execution_count": 29,
   "id": "e11d215b-be71-4f00-8814-a275ed92f10b",
   "metadata": {},
   "outputs": [
    {
     "name": "stdin",
     "output_type": "stream",
     "text": [
      "Enter your weight in kilograms:  25\n",
      "Enter your height in meters:  10\n"
     ]
    },
    {
     "name": "stdout",
     "output_type": "stream",
     "text": [
      "Your BMI is: 0.25\n",
      "Health Recommendation: Underweight: You may need to gain some weight for optimal health.\n"
     ]
    }
   ],
   "source": [
    "def calculate_bmi(weight, height):\n",
    "    # Calculate BMI using the formula: BMI = weight (kg) / (height (m))^2\n",
    "    bmi = weight / (height**2)\n",
    "    return bmi\n",
    "\n",
    "def get_health_recommendation(bmi):\n",
    "    if bmi < 18.5:\n",
    "        return \"Underweight: You may need to gain some weight for optimal health.\"\n",
    "    elif 18.5 <= bmi < 25:\n",
    "        return \"Normal weight: Keep up the good work!\"\n",
    "    elif 25 <= bmi < 30:\n",
    "        return \"Overweight: Consider losing some weight for better health.\"\n",
    "    else:\n",
    "        return \"Obese: It's recommended to consult with a healthcare professional for personalized advice.\"\n",
    "\n",
    "# Get user input for weight and height\n",
    "weight = float(input(\"Enter your weight in kilograms: \"))\n",
    "height = float(input(\"Enter your height in meters: \"))\n",
    "\n",
    "# Calculate BMI\n",
    "bmi = calculate_bmi(weight, height)\n",
    "\n",
    "# Display BMI and health recommendation\n",
    "print(f\"Your BMI is: {bmi:.2f}\")\n",
    "recommendation = get_health_recommendation(bmi)\n",
    "print(\"Health Recommendation:\", recommendation)\n"
   ]
  },
  {
   "cell_type": "markdown",
   "id": "e8353f60-55e4-453e-a74d-3dde00951345",
   "metadata": {},
   "source": [
    "# Challenge Level:"
   ]
  },
  {
   "cell_type": "markdown",
   "id": "35477d9b-b193-4ad5-a012-ed477caebe87",
   "metadata": {},
   "source": [
    "## 31. Create a program that validates a password based on complexity rules (length, characters, etc.)."
   ]
  },
  {
   "cell_type": "code",
   "execution_count": 30,
   "id": "e0129a8c-d12d-491e-9935-7ee54c437fdd",
   "metadata": {},
   "outputs": [
    {
     "name": "stdin",
     "output_type": "stream",
     "text": [
      "Enter your password:  gbgfgssh\n"
     ]
    },
    {
     "name": "stdout",
     "output_type": "stream",
     "text": [
      "Password is invalid. Please check the complexity rules.\n"
     ]
    }
   ],
   "source": [
    "import string\n",
    "\n",
    "def is_valid_password(password):\n",
    "    # Define complexity rules\n",
    "    min_length = 8\n",
    "    requires_uppercase = True\n",
    "    requires_lowercase = True\n",
    "    requires_digit = True\n",
    "    requires_special_char = True\n",
    "\n",
    "    # Check length\n",
    "    if len(password) < min_length:\n",
    "        return False\n",
    "\n",
    "    # Check uppercase letter\n",
    "    if requires_uppercase and not any(char.isupper() for char in password):\n",
    "        return False\n",
    "\n",
    "    # Check lowercase letter\n",
    "    if requires_lowercase and not any(char.islower() for char in password):\n",
    "        return False\n",
    "\n",
    "    # Check digit\n",
    "    if requires_digit and not any(char.isdigit() for char in password):\n",
    "        return False\n",
    "\n",
    "    # Check special character\n",
    "    special_chars = set(string.punctuation)\n",
    "    if requires_special_char and not any(char in special_chars for char in password):\n",
    "        return False\n",
    "\n",
    "    # All checks passed, password is valid\n",
    "    return True\n",
    "\n",
    "# Get password from the user\n",
    "password = input(\"Enter your password: \")\n",
    "\n",
    "# Validate the password\n",
    "if is_valid_password(password):\n",
    "    print(\"Password is valid.\")\n",
    "else:\n",
    "    print(\"Password is invalid. Please check the complexity rules.\")\n"
   ]
  },
  {
   "cell_type": "markdown",
   "id": "7402e898-4c73-40b6-9cfc-b81277d4922e",
   "metadata": {},
   "source": [
    "## 32. Develop a program that performs matrix addition and subtraction based on user input."
   ]
  },
  {
   "cell_type": "code",
   "execution_count": 32,
   "id": "1a8acf5b-b1b4-4d44-ba1f-6dcb4f7880db",
   "metadata": {},
   "outputs": [
    {
     "name": "stdout",
     "output_type": "stream",
     "text": [
      "Enter details for Matrix 1:\n"
     ]
    },
    {
     "name": "stdin",
     "output_type": "stream",
     "text": [
      "Enter the number of rows:  3\n",
      "Enter the number of columns:  3\n",
      "Enter element at row 1, column 1:  1\n",
      "Enter element at row 1, column 2:  2\n",
      "Enter element at row 1, column 3:  3\n",
      "Enter element at row 2, column 1:  4\n",
      "Enter element at row 2, column 2:  5\n",
      "Enter element at row 2, column 3:  6\n",
      "Enter element at row 3, column 1:  7\n",
      "Enter element at row 3, column 2:  8\n",
      "Enter element at row 3, column 3:  9\n"
     ]
    },
    {
     "name": "stdout",
     "output_type": "stream",
     "text": [
      "\n",
      "Enter details for Matrix 2:\n"
     ]
    },
    {
     "name": "stdin",
     "output_type": "stream",
     "text": [
      "Enter the number of rows:  3\n",
      "Enter the number of columns:  3\n",
      "Enter element at row 1, column 1:  9\n",
      "Enter element at row 1, column 2:  8\n",
      "Enter element at row 1, column 3:  7\n",
      "Enter element at row 2, column 1:  6\n",
      "Enter element at row 2, column 2:  5\n",
      "Enter element at row 2, column 3:  4\n",
      "Enter element at row 3, column 1:  3\n",
      "Enter element at row 3, column 2:  2\n",
      "Enter element at row 3, column 3:  1\n"
     ]
    },
    {
     "name": "stdout",
     "output_type": "stream",
     "text": [
      "\n",
      "Matrix 1:\n",
      "Matrix 1:\n",
      "[1.0, 2.0, 3.0]\n",
      "[4.0, 5.0, 6.0]\n",
      "[7.0, 8.0, 9.0]\n",
      "\n",
      "Matrix 2:\n",
      "Matrix 2:\n",
      "[9.0, 8.0, 7.0]\n",
      "[6.0, 5.0, 4.0]\n",
      "[3.0, 2.0, 1.0]\n",
      "\n",
      "Matrix Addition Result:\n",
      "Result (Addition):\n",
      "[10.0, 10.0, 10.0]\n",
      "[10.0, 10.0, 10.0]\n",
      "[10.0, 10.0, 10.0]\n",
      "\n",
      "Matrix Subtraction Result:\n",
      "Result (Subtraction):\n",
      "[-8.0, -6.0, -4.0]\n",
      "[-2.0, 0.0, 2.0]\n",
      "[4.0, 6.0, 8.0]\n"
     ]
    }
   ],
   "source": [
    "def add_matrices(matrix1, matrix2):\n",
    "    result = [[matrix1[i][j] + matrix2[i][j] for j in range(len(matrix1[0]))] for i in range(len(matrix1))]\n",
    "    return result\n",
    "\n",
    "def subtract_matrices(matrix1, matrix2):\n",
    "    result = [[matrix1[i][j] - matrix2[i][j] for j in range(len(matrix1[0]))] for i in range(len(matrix1))]\n",
    "    return result\n",
    "\n",
    "def display_matrix(matrix, label):\n",
    "    print(f\"{label}:\")\n",
    "    for row in matrix:\n",
    "        print(row)\n",
    "\n",
    "def get_matrix_from_user():\n",
    "    rows = int(input(\"Enter the number of rows: \"))\n",
    "    cols = int(input(\"Enter the number of columns: \"))\n",
    "    matrix = []\n",
    "\n",
    "    for i in range(rows):\n",
    "        row = [float(input(f\"Enter element at row {i + 1}, column {j + 1}: \")) for j in range(cols)]\n",
    "        matrix.append(row)\n",
    "\n",
    "    return matrix\n",
    "\n",
    "# Get matrices from the user\n",
    "print(\"Enter details for Matrix 1:\")\n",
    "matrix1 = get_matrix_from_user()\n",
    "\n",
    "print(\"\\nEnter details for Matrix 2:\")\n",
    "matrix2 = get_matrix_from_user()\n",
    "\n",
    "# Perform matrix addition and subtraction\n",
    "result_addition = add_matrices(matrix1, matrix2)\n",
    "result_subtraction = subtract_matrices(matrix1, matrix2)\n",
    "\n",
    "# Display the matrices and results\n",
    "print(\"\\nMatrix 1:\")\n",
    "display_matrix(matrix1, \"Matrix 1\")\n",
    "\n",
    "print(\"\\nMatrix 2:\")\n",
    "display_matrix(matrix2, \"Matrix 2\")\n",
    "\n",
    "print(\"\\nMatrix Addition Result:\")\n",
    "display_matrix(result_addition, \"Result (Addition)\")\n",
    "\n",
    "print(\"\\nMatrix Subtraction Result:\")\n",
    "display_matrix(result_subtraction, \"Result (Subtraction)\")\n"
   ]
  },
  {
   "cell_type": "markdown",
   "id": "b7c8db27-96ed-475c-9bcc-d4d30e5f2419",
   "metadata": {},
   "source": [
    "## 33. Write a program that calculates the greatest common divisor (GCD) of two numbers using the Euclidean algorithm.\n"
   ]
  },
  {
   "cell_type": "code",
   "execution_count": 33,
   "id": "94910970-3d66-40f7-800e-1e6e41e4aeb5",
   "metadata": {},
   "outputs": [
    {
     "name": "stdin",
     "output_type": "stream",
     "text": [
      "Enter the first number:  10\n",
      "Enter the second number:  20\n"
     ]
    },
    {
     "name": "stdout",
     "output_type": "stream",
     "text": [
      "The Greatest Common Divisor (GCD) of 10 and 20 is: 10\n"
     ]
    }
   ],
   "source": [
    "def calculate_gcd(a, b):\n",
    "    while b:\n",
    "        a, b = b, a % b\n",
    "    return abs(a)\n",
    "\n",
    "# Get two numbers from the user\n",
    "num1 = int(input(\"Enter the first number: \"))\n",
    "num2 = int(input(\"Enter the second number: \"))\n",
    "\n",
    "# Calculate and display the GCD\n",
    "gcd = calculate_gcd(num1, num2)\n",
    "print(f\"The Greatest Common Divisor (GCD) of {num1} and {num2} is: {gcd}\")\n"
   ]
  },
  {
   "cell_type": "markdown",
   "id": "702fb6d7-7c1b-4e04-8888-422b244628ff",
   "metadata": {},
   "source": [
    "## 34. Build a program that performs matrix multiplication using nested loops and conditional statements."
   ]
  },
  {
   "cell_type": "code",
   "execution_count": 2,
   "id": "fa722b57-8cb9-4361-84f7-ec6714616e59",
   "metadata": {},
   "outputs": [
    {
     "name": "stdout",
     "output_type": "stream",
     "text": [
      "Matrix 1:\n",
      "[2, 3]\n",
      "[4, 5]\n",
      "\n",
      "Matrix 2:\n",
      "[6, 7]\n",
      "[8, 9]\n",
      "\n",
      "Matrix Multiplication Result:\n",
      "[36, 41]\n",
      "[64, 73]\n"
     ]
    }
   ],
   "source": [
    "# Function to perform matrix multiplication\n",
    "def matrix_multiply(matrix1, matrix2):\n",
    "    rows1 = len(matrix1)\n",
    "    cols1 = len(matrix1[0])\n",
    "    rows2 = len(matrix2)\n",
    "    cols2 = len(matrix2[0])\n",
    "\n",
    "    if cols1 != rows2:\n",
    "        return None  # Matrices cannot be multiplied\n",
    "\n",
    "    result = [[0 for _ in range(cols2)] for _ in range(rows1)]\n",
    "\n",
    "    for i in range(rows1):\n",
    "        for j in range(cols2):\n",
    "            for k in range(cols1):\n",
    "                result[i][j] += matrix1[i][k] * matrix2[k][j]\n",
    "\n",
    "    return result\n",
    "\n",
    "# Input matrices\n",
    "matrix1 = [\n",
    "    [2, 3],\n",
    "    [4, 5]\n",
    "]\n",
    "\n",
    "matrix2 = [\n",
    "    [6, 7],\n",
    "    [8, 9]\n",
    "]\n",
    "\n",
    "# Perform matrix multiplication\n",
    "result = matrix_multiply(matrix1, matrix2)\n",
    "\n",
    "if result is None:\n",
    "    print(\"Matrix multiplication is not possible.\")\n",
    "else:\n",
    "    print(\"Matrix 1:\")\n",
    "    for row in matrix1:\n",
    "        print(row)\n",
    "\n",
    "    print(\"\\nMatrix 2:\")\n",
    "    for row in matrix2:\n",
    "        print(row)\n",
    "\n",
    "    print(\"\\nMatrix Multiplication Result:\")\n",
    "    for row in result:\n",
    "        print(row)\n"
   ]
  },
  {
   "cell_type": "markdown",
   "id": "ea40ec0f-5f9e-4d97-9d84-38441ad383f5",
   "metadata": {},
   "source": [
    "## 35. Create a program that simulates a basic text-based tic-tac-toe game against the computer."
   ]
  },
  {
   "cell_type": "code",
   "execution_count": 35,
   "id": "c30edc2c-5623-42c6-88b6-5cb284e36c27",
   "metadata": {},
   "outputs": [
    {
     "name": "stdout",
     "output_type": "stream",
     "text": [
      "Welcome to Tic-Tac-Toe!\n",
      "  |   |  \n",
      "---------\n",
      "  |   |  \n",
      "---------\n",
      "  |   |  \n",
      "---------\n"
     ]
    },
    {
     "name": "stdin",
     "output_type": "stream",
     "text": [
      "Enter your move (1-9):  1\n"
     ]
    },
    {
     "name": "stdout",
     "output_type": "stream",
     "text": [
      "Computer's turn:\n",
      "X |   |  \n",
      "---------\n",
      "  |   |  \n",
      "---------\n",
      "  |   | O\n",
      "---------\n"
     ]
    },
    {
     "name": "stdin",
     "output_type": "stream",
     "text": [
      "Enter your move (1-9):  2\n"
     ]
    },
    {
     "name": "stdout",
     "output_type": "stream",
     "text": [
      "Computer's turn:\n",
      "X | X |  \n",
      "---------\n",
      "  | O |  \n",
      "---------\n",
      "  |   | O\n",
      "---------\n"
     ]
    },
    {
     "name": "stdin",
     "output_type": "stream",
     "text": [
      "Enter your move (1-9):  3\n"
     ]
    },
    {
     "name": "stdout",
     "output_type": "stream",
     "text": [
      "X | X | X\n",
      "---------\n",
      "  | O |  \n",
      "---------\n",
      "  |   | O\n",
      "---------\n",
      "Congratulations! You win!\n"
     ]
    }
   ],
   "source": [
    "import random\n",
    "\n",
    "def print_board(board):\n",
    "    for row in board:\n",
    "        print(\" | \".join(row))\n",
    "        print(\"-\" * 9)\n",
    "\n",
    "def check_winner(board, player):\n",
    "    # Check rows, columns, and diagonals\n",
    "    for i in range(3):\n",
    "        if all(cell == player for cell in board[i]) or all(board[j][i] == player for j in range(3)):\n",
    "            return True\n",
    "    if all(board[i][i] == player for i in range(3)) or all(board[i][2 - i] == player for i in range(3)):\n",
    "        return True\n",
    "    return False\n",
    "\n",
    "def is_board_full(board):\n",
    "    return all(cell != ' ' for row in board for cell in row)\n",
    "\n",
    "def get_player_move(board):\n",
    "    while True:\n",
    "        try:\n",
    "            move = int(input(\"Enter your move (1-9): \")) - 1\n",
    "            row, col = divmod(move, 3)\n",
    "            if 0 <= row < 3 and 0 <= col < 3 and board[row][col] == ' ':\n",
    "                return row, col\n",
    "            else:\n",
    "                print(\"Invalid move. Try again.\")\n",
    "        except ValueError:\n",
    "            print(\"Invalid input. Please enter a number.\")\n",
    "\n",
    "def get_computer_move(board):\n",
    "    empty_cells = [(i, j) for i in range(3) for j in range(3) if board[i][j] == ' ']\n",
    "    return random.choice(empty_cells)\n",
    "\n",
    "def play_tic_tac_toe():\n",
    "    board = [[' ' for _ in range(3)] for _ in range(3)]\n",
    "    player_symbol = 'X'\n",
    "    computer_symbol = 'O'\n",
    "\n",
    "    print(\"Welcome to Tic-Tac-Toe!\")\n",
    "\n",
    "    while True:\n",
    "        print_board(board)\n",
    "\n",
    "        # Player's turn\n",
    "        player_row, player_col = get_player_move(board)\n",
    "        board[player_row][player_col] = player_symbol\n",
    "\n",
    "        # Check if player wins\n",
    "        if check_winner(board, player_symbol):\n",
    "            print_board(board)\n",
    "            print(\"Congratulations! You win!\")\n",
    "            break\n",
    "\n",
    "        # Check for a tie\n",
    "        if is_board_full(board):\n",
    "            print_board(board)\n",
    "            print(\"It's a tie!\")\n",
    "            break\n",
    "\n",
    "        # Computer's turn\n",
    "        print(\"Computer's turn:\")\n",
    "        computer_row, computer_col = get_computer_move(board)\n",
    "        board[computer_row][computer_col] = computer_symbol\n",
    "\n",
    "        # Check if computer wins\n",
    "        if check_winner(board, computer_symbol):\n",
    "            print_board(board)\n",
    "            print(\"Computer wins! Better luck next time.\")\n",
    "            break\n",
    "\n",
    "play_tic_tac_toe()\n"
   ]
  },
  {
   "cell_type": "markdown",
   "id": "96806ddf-7d17-4498-b3d4-e66728c452f0",
   "metadata": {},
   "source": [
    "## 36. Write a program that generates Fibonacci numbers up to a specified term using iterative methods."
   ]
  },
  {
   "cell_type": "code",
   "execution_count": 5,
   "id": "4668d406-8f83-40cd-949a-4b51c48e043e",
   "metadata": {},
   "outputs": [
    {
     "name": "stdin",
     "output_type": "stream",
     "text": [
      "Enter the number of Fibonacci terms to generate:  25\n"
     ]
    },
    {
     "name": "stdout",
     "output_type": "stream",
     "text": [
      "Fibonacci sequence:\n",
      "[0, 1, 1, 2, 3, 5, 8, 13, 21, 34, 55, 89, 144, 233, 377, 610, 987, 1597, 2584, 4181, 6765, 10946, 17711, 28657, 46368]\n"
     ]
    }
   ],
   "source": [
    "def generate_fibonacci(n):\n",
    "    if n <= 0:\n",
    "        return []\n",
    "    elif n == 1:\n",
    "        return [0]\n",
    "    elif n == 2:\n",
    "        return [0, 1]\n",
    "\n",
    "    fibonacci_sequence = [0, 1]\n",
    "\n",
    "    while len(fibonacci_sequence) < n:\n",
    "        next_number = fibonacci_sequence[-1] + fibonacci_sequence[-2]\n",
    "        fibonacci_sequence.append(next_number)\n",
    "\n",
    "    return fibonacci_sequence\n",
    "\n",
    "# Input the number of terms from the user\n",
    "n = int(input(\"Enter the number of Fibonacci terms to generate: \"))\n",
    "\n",
    "if n < 0:\n",
    "    print(\"Please enter a non-negative integer.\")\n",
    "else:\n",
    "    result = generate_fibonacci(n)\n",
    "    print(\"Fibonacci sequence:\")\n",
    "    print(result)\n"
   ]
  },
  {
   "cell_type": "markdown",
   "id": "62e87174-3e7c-4f62-a5bc-b6643a322f7e",
   "metadata": {},
   "source": [
    "## 37. Develop a program that calculates the nth term of the Fibonacci sequence using memoization."
   ]
  },
  {
   "cell_type": "code",
   "execution_count": 4,
   "id": "73721998-395c-4af0-93ec-7f794947910f",
   "metadata": {},
   "outputs": [
    {
     "name": "stdin",
     "output_type": "stream",
     "text": [
      "Enter the value of n:  50\n"
     ]
    },
    {
     "name": "stdout",
     "output_type": "stream",
     "text": [
      "The 50th Fibonacci number is: 12586269025\n"
     ]
    }
   ],
   "source": [
    "# Dictionary to store Fibonacci numbers for memoization\n",
    "fib_cache = {}\n",
    "\n",
    "# Function to calculate the nth Fibonacci number using memoization\n",
    "def fibonacci(n):\n",
    "    if n in fib_cache:\n",
    "        return fib_cache[n]\n",
    "    if n <= 1:\n",
    "        return n\n",
    "\n",
    "    result = fibonacci(n - 1) + fibonacci(n - 2)\n",
    "    fib_cache[n] = result  # Store the result in the cache\n",
    "    return result\n",
    "\n",
    "# Input the value of n from the user\n",
    "n = int(input(\"Enter the value of n: \"))\n",
    "\n",
    "if n < 0:\n",
    "    print(\"Please enter a non-negative integer.\")\n",
    "else:\n",
    "    nth_fibonacci = fibonacci(n)\n",
    "    print(f\"The {n}th Fibonacci number is: {nth_fibonacci}\")\n"
   ]
  },
  {
   "cell_type": "markdown",
   "id": "e43b309d-c64b-452c-8b28-6be79f9b10ee",
   "metadata": {},
   "source": [
    "## 38. Create a program that generates a calendar for a given month and year using conditional statements."
   ]
  },
  {
   "cell_type": "code",
   "execution_count": 3,
   "id": "7a743e5e-992c-49c6-986e-b759a0c9318f",
   "metadata": {},
   "outputs": [
    {
     "name": "stdin",
     "output_type": "stream",
     "text": [
      "Enter the year:  2022\n",
      "Enter the month (1-12):  8\n"
     ]
    },
    {
     "name": "stdout",
     "output_type": "stream",
     "text": [
      "Calendar for August 2022:\n",
      "\n",
      "    August 2022\n",
      "Mo Tu We Th Fr Sa Su\n",
      " 1  2  3  4  5  6  7\n",
      " 8  9 10 11 12 13 14\n",
      "15 16 17 18 19 20 21\n",
      "22 23 24 25 26 27 28\n",
      "29 30 31\n",
      "\n"
     ]
    }
   ],
   "source": [
    "import calendar\n",
    "\n",
    "# Input the year and month from the user\n",
    "year = int(input(\"Enter the year: \"))\n",
    "month = int(input(\"Enter the month (1-12): \"))\n",
    "\n",
    "# Validate the input\n",
    "if 1 <= month <= 12:\n",
    "    # Create a calendar for the specified year and month\n",
    "    cal = calendar.month(year, month)\n",
    "    \n",
    "    # Display the calendar\n",
    "    print(f\"Calendar for {calendar.month_name[month]} {year}:\\n\")\n",
    "    print(cal)\n",
    "else:\n",
    "    print(\"Invalid month. Please enter a valid month (1-12).\")\n"
   ]
  },
  {
   "cell_type": "markdown",
   "id": "8d886540-644e-4078-9468-5e51e72ba868",
   "metadata": {},
   "source": [
    "## 39. Build a program that simulates a basic text-based blackjack game against the computer."
   ]
  },
  {
   "cell_type": "code",
   "execution_count": 2,
   "id": "581060f3-2d73-4d37-939e-4fd17321a833",
   "metadata": {},
   "outputs": [
    {
     "name": "stdout",
     "output_type": "stream",
     "text": [
      "Welcome to Blackjack!\n",
      "\n",
      "Your Hand:\n",
      "Seven of Clubs\n",
      "Ten of Diamonds\n"
     ]
    },
    {
     "ename": "ValueError",
     "evalue": "invalid literal for int() with base 10: 'Seven'",
     "output_type": "error",
     "traceback": [
      "\u001b[0;31m---------------------------------------------------------------------------\u001b[0m",
      "\u001b[0;31mValueError\u001b[0m                                Traceback (most recent call last)",
      "Cell \u001b[0;32mIn[2], line 48\u001b[0m\n\u001b[1;32m     46\u001b[0m \u001b[38;5;28mprint\u001b[39m(\u001b[38;5;124m\"\u001b[39m\u001b[38;5;130;01m\\n\u001b[39;00m\u001b[38;5;124mYour Hand:\u001b[39m\u001b[38;5;124m\"\u001b[39m)\n\u001b[1;32m     47\u001b[0m display_hand(player_hand)\n\u001b[0;32m---> 48\u001b[0m player_value \u001b[38;5;241m=\u001b[39m \u001b[43mhand_value\u001b[49m\u001b[43m(\u001b[49m\u001b[43mplayer_hand\u001b[49m\u001b[43m)\u001b[49m\n\u001b[1;32m     50\u001b[0m \u001b[38;5;28;01mif\u001b[39;00m player_value \u001b[38;5;241m==\u001b[39m \u001b[38;5;241m21\u001b[39m:\n\u001b[1;32m     51\u001b[0m     \u001b[38;5;28mprint\u001b[39m(\u001b[38;5;124m\"\u001b[39m\u001b[38;5;124mBlackjack! You win!\u001b[39m\u001b[38;5;124m\"\u001b[39m)\n",
      "Cell \u001b[0;32mIn[2], line 22\u001b[0m, in \u001b[0;36mhand_value\u001b[0;34m(hand)\u001b[0m\n\u001b[1;32m     20\u001b[0m         num_aces \u001b[38;5;241m+\u001b[39m\u001b[38;5;241m=\u001b[39m \u001b[38;5;241m1\u001b[39m\n\u001b[1;32m     21\u001b[0m     \u001b[38;5;28;01melse\u001b[39;00m:\n\u001b[0;32m---> 22\u001b[0m         value \u001b[38;5;241m+\u001b[39m\u001b[38;5;241m=\u001b[39m \u001b[38;5;28;43mint\u001b[39;49m\u001b[43m(\u001b[49m\u001b[43mrank\u001b[49m\u001b[43m)\u001b[49m\n\u001b[1;32m     24\u001b[0m \u001b[38;5;28;01mwhile\u001b[39;00m value \u001b[38;5;241m>\u001b[39m \u001b[38;5;241m21\u001b[39m \u001b[38;5;129;01mand\u001b[39;00m num_aces \u001b[38;5;241m>\u001b[39m \u001b[38;5;241m0\u001b[39m:\n\u001b[1;32m     25\u001b[0m     value \u001b[38;5;241m-\u001b[39m\u001b[38;5;241m=\u001b[39m \u001b[38;5;241m10\u001b[39m\n",
      "\u001b[0;31mValueError\u001b[0m: invalid literal for int() with base 10: 'Seven'"
     ]
    }
   ],
   "source": [
    "import random\n",
    "\n",
    "# Initialize the deck of cards\n",
    "suits = ['Hearts', 'Diamonds', 'Clubs', 'Spades']\n",
    "ranks = ['Two', 'Three', 'Four', 'Five', 'Six', 'Seven', 'Eight', 'Nine', 'Ten', 'Jack', 'Queen', 'King', 'Ace']\n",
    "\n",
    "deck = [{'rank': rank, 'suit': suit} for suit in suits for rank in ranks]\n",
    "\n",
    "# Function to calculate the value of a hand\n",
    "def hand_value(hand):\n",
    "    value = 0\n",
    "    num_aces = 0\n",
    "\n",
    "    for card in hand:\n",
    "        rank = card['rank']\n",
    "        if rank in ['Jack', 'Queen', 'King']:\n",
    "            value += 10\n",
    "        elif rank == 'Ace':\n",
    "            value += 11\n",
    "            num_aces += 1\n",
    "        else:\n",
    "            value += int(rank)\n",
    "\n",
    "    while value > 21 and num_aces > 0:\n",
    "        value -= 10\n",
    "        num_aces -= 1\n",
    "\n",
    "    return value\n",
    "\n",
    "# Function to display a hand\n",
    "def display_hand(hand):\n",
    "    for card in hand:\n",
    "        print(f\"{card['rank']} of {card['suit']}\")\n",
    "\n",
    "# Shuffle the deck\n",
    "random.shuffle(deck)\n",
    "\n",
    "# Deal two cards to the player and the computer\n",
    "player_hand = [deck.pop(), deck.pop()]\n",
    "computer_hand = [deck.pop(), deck.pop()]\n",
    "\n",
    "print(\"Welcome to Blackjack!\")\n",
    "\n",
    "# Player's turn\n",
    "while True:\n",
    "    print(\"\\nYour Hand:\")\n",
    "    display_hand(player_hand)\n",
    "    player_value = hand_value(player_hand)\n",
    "\n",
    "    if player_value == 21:\n",
    "        print(\"Blackjack! You win!\")\n",
    "        break\n",
    "    elif player_value > 21:\n",
    "        print(\"Bust! You lose.\")\n",
    "        break\n",
    "\n",
    "    choice = input(\"\\nDo you want to hit (H) or stand (S)? \").lower()\n",
    "    if choice == 'h':\n",
    "        player_hand.append(deck.pop())\n",
    "    elif choice == 's':\n",
    "        break\n",
    "\n",
    "# Computer's turn\n",
    "while hand_value(computer_hand) < 17:\n",
    "    computer_hand.append(deck.pop())\n",
    "\n",
    "print(\"\\nComputer's Hand:\")\n",
    "display_hand(computer_hand)\n",
    "computer_value = hand_value(computer_hand)\n",
    "\n",
    "# Determine the winner\n",
    "if player_value > 21:\n",
    "    print(\"Player busts. Computer wins.\")\n",
    "elif computer_value > 21:\n",
    "    print(\"Computer busts. Player wins.\")\n",
    "elif player_value > computer_value:\n",
    "    print(\"Player wins!\")\n",
    "elif player_value < computer_value:\n",
    "    print(\"Computer wins.\")\n",
    "else:\n",
    "    print(\"It's a tie!\")\n",
    "\n",
    "print(f\"Player's hand value: {player_value}\")\n",
    "print(f\"Computer's hand value: {computer_value}\")\n"
   ]
  },
  {
   "cell_type": "markdown",
   "id": "af5424de-c4ea-49e0-91ad-52947fcb8844",
   "metadata": {},
   "source": [
    "## 40. Write a program that generates the prime factors of a given number using trial division."
   ]
  },
  {
   "cell_type": "code",
   "execution_count": 4,
   "id": "27bd0ad0-2740-4354-80fb-0fd2afa3a2e5",
   "metadata": {},
   "outputs": [
    {
     "name": "stdin",
     "output_type": "stream",
     "text": [
      "Enter a number:  27\n"
     ]
    },
    {
     "name": "stdout",
     "output_type": "stream",
     "text": [
      "Prime factors of 27 are: [3, 3, 3]\n"
     ]
    }
   ],
   "source": [
    "def prime_factors(n):\n",
    "    factors = []\n",
    "    div = 2  # Start with the smallest prime number\n",
    "\n",
    "    while div <= n:\n",
    "        if n % div == 0:\n",
    "            factors.append(div)\n",
    "            n = n // div  # Divide n by the prime factor\n",
    "        else:\n",
    "            div += 1\n",
    "\n",
    "    return factors\n",
    "\n",
    "# Input a number from the user\n",
    "number = int(input(\"Enter a number: \"))\n",
    "\n",
    "if number < 2:\n",
    "    print(\"Prime factors are not defined for numbers less than 2.\")\n",
    "else:\n",
    "    factors = prime_factors(number)\n",
    "    print(f\"Prime factors of {number} are: {factors}\")\n"
   ]
  },
  {
   "cell_type": "code",
   "execution_count": null,
   "id": "ff844936-00a8-4765-adb3-07d20c281710",
   "metadata": {},
   "outputs": [],
   "source": []
  }
 ],
 "metadata": {
  "kernelspec": {
   "display_name": "Python 3 (ipykernel)",
   "language": "python",
   "name": "python3"
  },
  "language_info": {
   "codemirror_mode": {
    "name": "ipython",
    "version": 3
   },
   "file_extension": ".py",
   "mimetype": "text/x-python",
   "name": "python",
   "nbconvert_exporter": "python",
   "pygments_lexer": "ipython3",
   "version": "3.10.8"
  }
 },
 "nbformat": 4,
 "nbformat_minor": 5
}
